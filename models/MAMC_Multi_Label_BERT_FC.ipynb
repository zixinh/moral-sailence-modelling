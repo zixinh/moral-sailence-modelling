{
  "nbformat": 4,
  "nbformat_minor": 0,
  "metadata": {
    "colab": {
      "name": "Multi-Label-BERT_FC-MAMC.ipynb",
      "provenance": [],
      "collapsed_sections": [
        "PbrIqkb7q0ny"
      ],
      "toc_visible": true
    },
    "kernelspec": {
      "name": "python3",
      "display_name": "Python 3"
    },
    "accelerator": "GPU",
    "widgets": {
      "application/vnd.jupyter.widget-state+json": {
        "cb4277d206d74aee869c8e84e4987a30": {
          "model_module": "@jupyter-widgets/controls",
          "model_name": "HBoxModel",
          "state": {
            "_view_name": "HBoxView",
            "_dom_classes": [],
            "_model_name": "HBoxModel",
            "_view_module": "@jupyter-widgets/controls",
            "_model_module_version": "1.5.0",
            "_view_count": null,
            "_view_module_version": "1.5.0",
            "box_style": "",
            "layout": "IPY_MODEL_2e748c25237e401d849c06a1421e571b",
            "_model_module": "@jupyter-widgets/controls",
            "children": [
              "IPY_MODEL_d20056a320a64c06aafcd8765166f10e",
              "IPY_MODEL_07e23b8e39604e209cf0858ddad7531f"
            ]
          }
        },
        "2e748c25237e401d849c06a1421e571b": {
          "model_module": "@jupyter-widgets/base",
          "model_name": "LayoutModel",
          "state": {
            "_view_name": "LayoutView",
            "grid_template_rows": null,
            "right": null,
            "justify_content": null,
            "_view_module": "@jupyter-widgets/base",
            "overflow": null,
            "_model_module_version": "1.2.0",
            "_view_count": null,
            "flex_flow": null,
            "width": null,
            "min_width": null,
            "border": null,
            "align_items": null,
            "bottom": null,
            "_model_module": "@jupyter-widgets/base",
            "top": null,
            "grid_column": null,
            "overflow_y": null,
            "overflow_x": null,
            "grid_auto_flow": null,
            "grid_area": null,
            "grid_template_columns": null,
            "flex": null,
            "_model_name": "LayoutModel",
            "justify_items": null,
            "grid_row": null,
            "max_height": null,
            "align_content": null,
            "visibility": null,
            "align_self": null,
            "height": null,
            "min_height": null,
            "padding": null,
            "grid_auto_rows": null,
            "grid_gap": null,
            "max_width": null,
            "order": null,
            "_view_module_version": "1.2.0",
            "grid_template_areas": null,
            "object_position": null,
            "object_fit": null,
            "grid_auto_columns": null,
            "margin": null,
            "display": null,
            "left": null
          }
        },
        "d20056a320a64c06aafcd8765166f10e": {
          "model_module": "@jupyter-widgets/controls",
          "model_name": "IntProgressModel",
          "state": {
            "_view_name": "ProgressView",
            "style": "IPY_MODEL_84e1f62234364f8c830b71b1cebcc5f8",
            "_dom_classes": [],
            "description": "Downloading: 100%",
            "_model_name": "IntProgressModel",
            "bar_style": "success",
            "max": 231508,
            "_view_module": "@jupyter-widgets/controls",
            "_model_module_version": "1.5.0",
            "value": 231508,
            "_view_count": null,
            "_view_module_version": "1.5.0",
            "orientation": "horizontal",
            "min": 0,
            "description_tooltip": null,
            "_model_module": "@jupyter-widgets/controls",
            "layout": "IPY_MODEL_48e09559add34c118020409728bf676e"
          }
        },
        "07e23b8e39604e209cf0858ddad7531f": {
          "model_module": "@jupyter-widgets/controls",
          "model_name": "HTMLModel",
          "state": {
            "_view_name": "HTMLView",
            "style": "IPY_MODEL_8276b7c76a6a49a48676bf861e4bd7b9",
            "_dom_classes": [],
            "description": "",
            "_model_name": "HTMLModel",
            "placeholder": "​",
            "_view_module": "@jupyter-widgets/controls",
            "_model_module_version": "1.5.0",
            "value": " 232k/232k [00:00&lt;00:00, 254kB/s]",
            "_view_count": null,
            "_view_module_version": "1.5.0",
            "description_tooltip": null,
            "_model_module": "@jupyter-widgets/controls",
            "layout": "IPY_MODEL_e48c644eb1c54c46999fdfad3b170ba5"
          }
        },
        "84e1f62234364f8c830b71b1cebcc5f8": {
          "model_module": "@jupyter-widgets/controls",
          "model_name": "ProgressStyleModel",
          "state": {
            "_view_name": "StyleView",
            "_model_name": "ProgressStyleModel",
            "description_width": "initial",
            "_view_module": "@jupyter-widgets/base",
            "_model_module_version": "1.5.0",
            "_view_count": null,
            "_view_module_version": "1.2.0",
            "bar_color": null,
            "_model_module": "@jupyter-widgets/controls"
          }
        },
        "48e09559add34c118020409728bf676e": {
          "model_module": "@jupyter-widgets/base",
          "model_name": "LayoutModel",
          "state": {
            "_view_name": "LayoutView",
            "grid_template_rows": null,
            "right": null,
            "justify_content": null,
            "_view_module": "@jupyter-widgets/base",
            "overflow": null,
            "_model_module_version": "1.2.0",
            "_view_count": null,
            "flex_flow": null,
            "width": null,
            "min_width": null,
            "border": null,
            "align_items": null,
            "bottom": null,
            "_model_module": "@jupyter-widgets/base",
            "top": null,
            "grid_column": null,
            "overflow_y": null,
            "overflow_x": null,
            "grid_auto_flow": null,
            "grid_area": null,
            "grid_template_columns": null,
            "flex": null,
            "_model_name": "LayoutModel",
            "justify_items": null,
            "grid_row": null,
            "max_height": null,
            "align_content": null,
            "visibility": null,
            "align_self": null,
            "height": null,
            "min_height": null,
            "padding": null,
            "grid_auto_rows": null,
            "grid_gap": null,
            "max_width": null,
            "order": null,
            "_view_module_version": "1.2.0",
            "grid_template_areas": null,
            "object_position": null,
            "object_fit": null,
            "grid_auto_columns": null,
            "margin": null,
            "display": null,
            "left": null
          }
        },
        "8276b7c76a6a49a48676bf861e4bd7b9": {
          "model_module": "@jupyter-widgets/controls",
          "model_name": "DescriptionStyleModel",
          "state": {
            "_view_name": "StyleView",
            "_model_name": "DescriptionStyleModel",
            "description_width": "",
            "_view_module": "@jupyter-widgets/base",
            "_model_module_version": "1.5.0",
            "_view_count": null,
            "_view_module_version": "1.2.0",
            "_model_module": "@jupyter-widgets/controls"
          }
        },
        "e48c644eb1c54c46999fdfad3b170ba5": {
          "model_module": "@jupyter-widgets/base",
          "model_name": "LayoutModel",
          "state": {
            "_view_name": "LayoutView",
            "grid_template_rows": null,
            "right": null,
            "justify_content": null,
            "_view_module": "@jupyter-widgets/base",
            "overflow": null,
            "_model_module_version": "1.2.0",
            "_view_count": null,
            "flex_flow": null,
            "width": null,
            "min_width": null,
            "border": null,
            "align_items": null,
            "bottom": null,
            "_model_module": "@jupyter-widgets/base",
            "top": null,
            "grid_column": null,
            "overflow_y": null,
            "overflow_x": null,
            "grid_auto_flow": null,
            "grid_area": null,
            "grid_template_columns": null,
            "flex": null,
            "_model_name": "LayoutModel",
            "justify_items": null,
            "grid_row": null,
            "max_height": null,
            "align_content": null,
            "visibility": null,
            "align_self": null,
            "height": null,
            "min_height": null,
            "padding": null,
            "grid_auto_rows": null,
            "grid_gap": null,
            "max_width": null,
            "order": null,
            "_view_module_version": "1.2.0",
            "grid_template_areas": null,
            "object_position": null,
            "object_fit": null,
            "grid_auto_columns": null,
            "margin": null,
            "display": null,
            "left": null
          }
        },
        "de006970aaad42f0bf0927fcb5a76f6a": {
          "model_module": "@jupyter-widgets/controls",
          "model_name": "HBoxModel",
          "state": {
            "_view_name": "HBoxView",
            "_dom_classes": [],
            "_model_name": "HBoxModel",
            "_view_module": "@jupyter-widgets/controls",
            "_model_module_version": "1.5.0",
            "_view_count": null,
            "_view_module_version": "1.5.0",
            "box_style": "",
            "layout": "IPY_MODEL_c2cbb53a9c374d789d2667aad5b0bd97",
            "_model_module": "@jupyter-widgets/controls",
            "children": [
              "IPY_MODEL_6c869030a2f0400399e722b0fe047fe4",
              "IPY_MODEL_4608d1ae4c7a4f8281dbc9c5a21128c5"
            ]
          }
        },
        "c2cbb53a9c374d789d2667aad5b0bd97": {
          "model_module": "@jupyter-widgets/base",
          "model_name": "LayoutModel",
          "state": {
            "_view_name": "LayoutView",
            "grid_template_rows": null,
            "right": null,
            "justify_content": null,
            "_view_module": "@jupyter-widgets/base",
            "overflow": null,
            "_model_module_version": "1.2.0",
            "_view_count": null,
            "flex_flow": null,
            "width": null,
            "min_width": null,
            "border": null,
            "align_items": null,
            "bottom": null,
            "_model_module": "@jupyter-widgets/base",
            "top": null,
            "grid_column": null,
            "overflow_y": null,
            "overflow_x": null,
            "grid_auto_flow": null,
            "grid_area": null,
            "grid_template_columns": null,
            "flex": null,
            "_model_name": "LayoutModel",
            "justify_items": null,
            "grid_row": null,
            "max_height": null,
            "align_content": null,
            "visibility": null,
            "align_self": null,
            "height": null,
            "min_height": null,
            "padding": null,
            "grid_auto_rows": null,
            "grid_gap": null,
            "max_width": null,
            "order": null,
            "_view_module_version": "1.2.0",
            "grid_template_areas": null,
            "object_position": null,
            "object_fit": null,
            "grid_auto_columns": null,
            "margin": null,
            "display": null,
            "left": null
          }
        },
        "6c869030a2f0400399e722b0fe047fe4": {
          "model_module": "@jupyter-widgets/controls",
          "model_name": "IntProgressModel",
          "state": {
            "_view_name": "ProgressView",
            "style": "IPY_MODEL_71aaee4c4a854814b3c7221031cf3f16",
            "_dom_classes": [],
            "description": "Downloading: 100%",
            "_model_name": "IntProgressModel",
            "bar_style": "success",
            "max": 361,
            "_view_module": "@jupyter-widgets/controls",
            "_model_module_version": "1.5.0",
            "value": 361,
            "_view_count": null,
            "_view_module_version": "1.5.0",
            "orientation": "horizontal",
            "min": 0,
            "description_tooltip": null,
            "_model_module": "@jupyter-widgets/controls",
            "layout": "IPY_MODEL_0f8863d183024abba379afb877db7dea"
          }
        },
        "4608d1ae4c7a4f8281dbc9c5a21128c5": {
          "model_module": "@jupyter-widgets/controls",
          "model_name": "HTMLModel",
          "state": {
            "_view_name": "HTMLView",
            "style": "IPY_MODEL_378ae743900c48ad8e8e19be7d89591f",
            "_dom_classes": [],
            "description": "",
            "_model_name": "HTMLModel",
            "placeholder": "​",
            "_view_module": "@jupyter-widgets/controls",
            "_model_module_version": "1.5.0",
            "value": " 361/361 [00:02&lt;00:00, 146B/s]",
            "_view_count": null,
            "_view_module_version": "1.5.0",
            "description_tooltip": null,
            "_model_module": "@jupyter-widgets/controls",
            "layout": "IPY_MODEL_ebd9ba4893a64f5282bfd367e127b3a0"
          }
        },
        "71aaee4c4a854814b3c7221031cf3f16": {
          "model_module": "@jupyter-widgets/controls",
          "model_name": "ProgressStyleModel",
          "state": {
            "_view_name": "StyleView",
            "_model_name": "ProgressStyleModel",
            "description_width": "initial",
            "_view_module": "@jupyter-widgets/base",
            "_model_module_version": "1.5.0",
            "_view_count": null,
            "_view_module_version": "1.2.0",
            "bar_color": null,
            "_model_module": "@jupyter-widgets/controls"
          }
        },
        "0f8863d183024abba379afb877db7dea": {
          "model_module": "@jupyter-widgets/base",
          "model_name": "LayoutModel",
          "state": {
            "_view_name": "LayoutView",
            "grid_template_rows": null,
            "right": null,
            "justify_content": null,
            "_view_module": "@jupyter-widgets/base",
            "overflow": null,
            "_model_module_version": "1.2.0",
            "_view_count": null,
            "flex_flow": null,
            "width": null,
            "min_width": null,
            "border": null,
            "align_items": null,
            "bottom": null,
            "_model_module": "@jupyter-widgets/base",
            "top": null,
            "grid_column": null,
            "overflow_y": null,
            "overflow_x": null,
            "grid_auto_flow": null,
            "grid_area": null,
            "grid_template_columns": null,
            "flex": null,
            "_model_name": "LayoutModel",
            "justify_items": null,
            "grid_row": null,
            "max_height": null,
            "align_content": null,
            "visibility": null,
            "align_self": null,
            "height": null,
            "min_height": null,
            "padding": null,
            "grid_auto_rows": null,
            "grid_gap": null,
            "max_width": null,
            "order": null,
            "_view_module_version": "1.2.0",
            "grid_template_areas": null,
            "object_position": null,
            "object_fit": null,
            "grid_auto_columns": null,
            "margin": null,
            "display": null,
            "left": null
          }
        },
        "378ae743900c48ad8e8e19be7d89591f": {
          "model_module": "@jupyter-widgets/controls",
          "model_name": "DescriptionStyleModel",
          "state": {
            "_view_name": "StyleView",
            "_model_name": "DescriptionStyleModel",
            "description_width": "",
            "_view_module": "@jupyter-widgets/base",
            "_model_module_version": "1.5.0",
            "_view_count": null,
            "_view_module_version": "1.2.0",
            "_model_module": "@jupyter-widgets/controls"
          }
        },
        "ebd9ba4893a64f5282bfd367e127b3a0": {
          "model_module": "@jupyter-widgets/base",
          "model_name": "LayoutModel",
          "state": {
            "_view_name": "LayoutView",
            "grid_template_rows": null,
            "right": null,
            "justify_content": null,
            "_view_module": "@jupyter-widgets/base",
            "overflow": null,
            "_model_module_version": "1.2.0",
            "_view_count": null,
            "flex_flow": null,
            "width": null,
            "min_width": null,
            "border": null,
            "align_items": null,
            "bottom": null,
            "_model_module": "@jupyter-widgets/base",
            "top": null,
            "grid_column": null,
            "overflow_y": null,
            "overflow_x": null,
            "grid_auto_flow": null,
            "grid_area": null,
            "grid_template_columns": null,
            "flex": null,
            "_model_name": "LayoutModel",
            "justify_items": null,
            "grid_row": null,
            "max_height": null,
            "align_content": null,
            "visibility": null,
            "align_self": null,
            "height": null,
            "min_height": null,
            "padding": null,
            "grid_auto_rows": null,
            "grid_gap": null,
            "max_width": null,
            "order": null,
            "_view_module_version": "1.2.0",
            "grid_template_areas": null,
            "object_position": null,
            "object_fit": null,
            "grid_auto_columns": null,
            "margin": null,
            "display": null,
            "left": null
          }
        },
        "9a3950dc52114bc7a12a0b45a66e1251": {
          "model_module": "@jupyter-widgets/controls",
          "model_name": "HBoxModel",
          "state": {
            "_view_name": "HBoxView",
            "_dom_classes": [],
            "_model_name": "HBoxModel",
            "_view_module": "@jupyter-widgets/controls",
            "_model_module_version": "1.5.0",
            "_view_count": null,
            "_view_module_version": "1.5.0",
            "box_style": "",
            "layout": "IPY_MODEL_8b4e7d43d03e4826a3bdd01187576308",
            "_model_module": "@jupyter-widgets/controls",
            "children": [
              "IPY_MODEL_f17100eccd56437abb259ce2cccbba76",
              "IPY_MODEL_ea0a68edafcd4b2a8fa44d6d0be60f0e"
            ]
          }
        },
        "8b4e7d43d03e4826a3bdd01187576308": {
          "model_module": "@jupyter-widgets/base",
          "model_name": "LayoutModel",
          "state": {
            "_view_name": "LayoutView",
            "grid_template_rows": null,
            "right": null,
            "justify_content": null,
            "_view_module": "@jupyter-widgets/base",
            "overflow": null,
            "_model_module_version": "1.2.0",
            "_view_count": null,
            "flex_flow": null,
            "width": null,
            "min_width": null,
            "border": null,
            "align_items": null,
            "bottom": null,
            "_model_module": "@jupyter-widgets/base",
            "top": null,
            "grid_column": null,
            "overflow_y": null,
            "overflow_x": null,
            "grid_auto_flow": null,
            "grid_area": null,
            "grid_template_columns": null,
            "flex": null,
            "_model_name": "LayoutModel",
            "justify_items": null,
            "grid_row": null,
            "max_height": null,
            "align_content": null,
            "visibility": null,
            "align_self": null,
            "height": null,
            "min_height": null,
            "padding": null,
            "grid_auto_rows": null,
            "grid_gap": null,
            "max_width": null,
            "order": null,
            "_view_module_version": "1.2.0",
            "grid_template_areas": null,
            "object_position": null,
            "object_fit": null,
            "grid_auto_columns": null,
            "margin": null,
            "display": null,
            "left": null
          }
        },
        "f17100eccd56437abb259ce2cccbba76": {
          "model_module": "@jupyter-widgets/controls",
          "model_name": "IntProgressModel",
          "state": {
            "_view_name": "ProgressView",
            "style": "IPY_MODEL_44b668e1b2204aaebeeb5db2ae1e68b3",
            "_dom_classes": [],
            "description": "Downloading: 100%",
            "_model_name": "IntProgressModel",
            "bar_style": "success",
            "max": 440473133,
            "_view_module": "@jupyter-widgets/controls",
            "_model_module_version": "1.5.0",
            "value": 440473133,
            "_view_count": null,
            "_view_module_version": "1.5.0",
            "orientation": "horizontal",
            "min": 0,
            "description_tooltip": null,
            "_model_module": "@jupyter-widgets/controls",
            "layout": "IPY_MODEL_a7f28be7fe1a4f0f9dc40c5d43fdacac"
          }
        },
        "ea0a68edafcd4b2a8fa44d6d0be60f0e": {
          "model_module": "@jupyter-widgets/controls",
          "model_name": "HTMLModel",
          "state": {
            "_view_name": "HTMLView",
            "style": "IPY_MODEL_25f08c73551b444b97f1139a4c454b19",
            "_dom_classes": [],
            "description": "",
            "_model_name": "HTMLModel",
            "placeholder": "​",
            "_view_module": "@jupyter-widgets/controls",
            "_model_module_version": "1.5.0",
            "value": " 440M/440M [00:40&lt;00:00, 10.8MB/s]",
            "_view_count": null,
            "_view_module_version": "1.5.0",
            "description_tooltip": null,
            "_model_module": "@jupyter-widgets/controls",
            "layout": "IPY_MODEL_cfaf5ca73faa4d1599209a4df7ac1dc9"
          }
        },
        "44b668e1b2204aaebeeb5db2ae1e68b3": {
          "model_module": "@jupyter-widgets/controls",
          "model_name": "ProgressStyleModel",
          "state": {
            "_view_name": "StyleView",
            "_model_name": "ProgressStyleModel",
            "description_width": "initial",
            "_view_module": "@jupyter-widgets/base",
            "_model_module_version": "1.5.0",
            "_view_count": null,
            "_view_module_version": "1.2.0",
            "bar_color": null,
            "_model_module": "@jupyter-widgets/controls"
          }
        },
        "a7f28be7fe1a4f0f9dc40c5d43fdacac": {
          "model_module": "@jupyter-widgets/base",
          "model_name": "LayoutModel",
          "state": {
            "_view_name": "LayoutView",
            "grid_template_rows": null,
            "right": null,
            "justify_content": null,
            "_view_module": "@jupyter-widgets/base",
            "overflow": null,
            "_model_module_version": "1.2.0",
            "_view_count": null,
            "flex_flow": null,
            "width": null,
            "min_width": null,
            "border": null,
            "align_items": null,
            "bottom": null,
            "_model_module": "@jupyter-widgets/base",
            "top": null,
            "grid_column": null,
            "overflow_y": null,
            "overflow_x": null,
            "grid_auto_flow": null,
            "grid_area": null,
            "grid_template_columns": null,
            "flex": null,
            "_model_name": "LayoutModel",
            "justify_items": null,
            "grid_row": null,
            "max_height": null,
            "align_content": null,
            "visibility": null,
            "align_self": null,
            "height": null,
            "min_height": null,
            "padding": null,
            "grid_auto_rows": null,
            "grid_gap": null,
            "max_width": null,
            "order": null,
            "_view_module_version": "1.2.0",
            "grid_template_areas": null,
            "object_position": null,
            "object_fit": null,
            "grid_auto_columns": null,
            "margin": null,
            "display": null,
            "left": null
          }
        },
        "25f08c73551b444b97f1139a4c454b19": {
          "model_module": "@jupyter-widgets/controls",
          "model_name": "DescriptionStyleModel",
          "state": {
            "_view_name": "StyleView",
            "_model_name": "DescriptionStyleModel",
            "description_width": "",
            "_view_module": "@jupyter-widgets/base",
            "_model_module_version": "1.5.0",
            "_view_count": null,
            "_view_module_version": "1.2.0",
            "_model_module": "@jupyter-widgets/controls"
          }
        },
        "cfaf5ca73faa4d1599209a4df7ac1dc9": {
          "model_module": "@jupyter-widgets/base",
          "model_name": "LayoutModel",
          "state": {
            "_view_name": "LayoutView",
            "grid_template_rows": null,
            "right": null,
            "justify_content": null,
            "_view_module": "@jupyter-widgets/base",
            "overflow": null,
            "_model_module_version": "1.2.0",
            "_view_count": null,
            "flex_flow": null,
            "width": null,
            "min_width": null,
            "border": null,
            "align_items": null,
            "bottom": null,
            "_model_module": "@jupyter-widgets/base",
            "top": null,
            "grid_column": null,
            "overflow_y": null,
            "overflow_x": null,
            "grid_auto_flow": null,
            "grid_area": null,
            "grid_template_columns": null,
            "flex": null,
            "_model_name": "LayoutModel",
            "justify_items": null,
            "grid_row": null,
            "max_height": null,
            "align_content": null,
            "visibility": null,
            "align_self": null,
            "height": null,
            "min_height": null,
            "padding": null,
            "grid_auto_rows": null,
            "grid_gap": null,
            "max_width": null,
            "order": null,
            "_view_module_version": "1.2.0",
            "grid_template_areas": null,
            "object_position": null,
            "object_fit": null,
            "grid_auto_columns": null,
            "margin": null,
            "display": null,
            "left": null
          }
        }
      }
    }
  },
  "cells": [
    {
      "cell_type": "markdown",
      "metadata": {
        "id": "PbrIqkb7q0ny",
        "colab_type": "text"
      },
      "source": [
        "# Setup"
      ]
    },
    {
      "cell_type": "code",
      "metadata": {
        "id": "jU7fYjAllVwQ",
        "colab_type": "code",
        "outputId": "3aac704d-fa39-42a3-b7d2-a78472652c51",
        "colab": {
          "base_uri": "https://localhost:8080/",
          "height": 683
        }
      },
      "source": [
        "# install transformers package from Hugging Face transformers package contains \n",
        "# pre-trained BERT model and other useful interfaces\n",
        "!pip install transformers "
      ],
      "execution_count": 1,
      "outputs": [
        {
          "output_type": "stream",
          "text": [
            "Collecting transformers\n",
            "\u001b[?25l  Downloading https://files.pythonhosted.org/packages/a3/78/92cedda05552398352ed9784908b834ee32a0bd071a9b32de287327370b7/transformers-2.8.0-py3-none-any.whl (563kB)\n",
            "\r\u001b[K     |▋                               | 10kB 26.6MB/s eta 0:00:01\r\u001b[K     |█▏                              | 20kB 32.4MB/s eta 0:00:01\r\u001b[K     |█▊                              | 30kB 37.7MB/s eta 0:00:01\r\u001b[K     |██▎                             | 40kB 38.3MB/s eta 0:00:01\r\u001b[K     |███                             | 51kB 17.4MB/s eta 0:00:01\r\u001b[K     |███▌                            | 61kB 15.3MB/s eta 0:00:01\r\u001b[K     |████                            | 71kB 14.5MB/s eta 0:00:01\r\u001b[K     |████▋                           | 81kB 13.9MB/s eta 0:00:01\r\u001b[K     |█████▎                          | 92kB 13.6MB/s eta 0:00:01\r\u001b[K     |█████▉                          | 102kB 13.6MB/s eta 0:00:01\r\u001b[K     |██████▍                         | 112kB 13.6MB/s eta 0:00:01\r\u001b[K     |███████                         | 122kB 13.6MB/s eta 0:00:01\r\u001b[K     |███████▋                        | 133kB 13.6MB/s eta 0:00:01\r\u001b[K     |████████▏                       | 143kB 13.6MB/s eta 0:00:01\r\u001b[K     |████████▊                       | 153kB 13.6MB/s eta 0:00:01\r\u001b[K     |█████████▎                      | 163kB 13.6MB/s eta 0:00:01\r\u001b[K     |█████████▉                      | 174kB 13.6MB/s eta 0:00:01\r\u001b[K     |██████████▌                     | 184kB 13.6MB/s eta 0:00:01\r\u001b[K     |███████████                     | 194kB 13.6MB/s eta 0:00:01\r\u001b[K     |███████████▋                    | 204kB 13.6MB/s eta 0:00:01\r\u001b[K     |████████████▏                   | 215kB 13.6MB/s eta 0:00:01\r\u001b[K     |████████████▉                   | 225kB 13.6MB/s eta 0:00:01\r\u001b[K     |█████████████▍                  | 235kB 13.6MB/s eta 0:00:01\r\u001b[K     |██████████████                  | 245kB 13.6MB/s eta 0:00:01\r\u001b[K     |██████████████▌                 | 256kB 13.6MB/s eta 0:00:01\r\u001b[K     |███████████████▏                | 266kB 13.6MB/s eta 0:00:01\r\u001b[K     |███████████████▊                | 276kB 13.6MB/s eta 0:00:01\r\u001b[K     |████████████████▎               | 286kB 13.6MB/s eta 0:00:01\r\u001b[K     |████████████████▉               | 296kB 13.6MB/s eta 0:00:01\r\u001b[K     |█████████████████▍              | 307kB 13.6MB/s eta 0:00:01\r\u001b[K     |██████████████████              | 317kB 13.6MB/s eta 0:00:01\r\u001b[K     |██████████████████▋             | 327kB 13.6MB/s eta 0:00:01\r\u001b[K     |███████████████████▏            | 337kB 13.6MB/s eta 0:00:01\r\u001b[K     |███████████████████▊            | 348kB 13.6MB/s eta 0:00:01\r\u001b[K     |████████████████████▍           | 358kB 13.6MB/s eta 0:00:01\r\u001b[K     |█████████████████████           | 368kB 13.6MB/s eta 0:00:01\r\u001b[K     |█████████████████████▌          | 378kB 13.6MB/s eta 0:00:01\r\u001b[K     |██████████████████████          | 389kB 13.6MB/s eta 0:00:01\r\u001b[K     |██████████████████████▊         | 399kB 13.6MB/s eta 0:00:01\r\u001b[K     |███████████████████████▎        | 409kB 13.6MB/s eta 0:00:01\r\u001b[K     |███████████████████████▉        | 419kB 13.6MB/s eta 0:00:01\r\u001b[K     |████████████████████████▍       | 430kB 13.6MB/s eta 0:00:01\r\u001b[K     |█████████████████████████       | 440kB 13.6MB/s eta 0:00:01\r\u001b[K     |█████████████████████████▋      | 450kB 13.6MB/s eta 0:00:01\r\u001b[K     |██████████████████████████▏     | 460kB 13.6MB/s eta 0:00:01\r\u001b[K     |██████████████████████████▊     | 471kB 13.6MB/s eta 0:00:01\r\u001b[K     |███████████████████████████▎    | 481kB 13.6MB/s eta 0:00:01\r\u001b[K     |████████████████████████████    | 491kB 13.6MB/s eta 0:00:01\r\u001b[K     |████████████████████████████▌   | 501kB 13.6MB/s eta 0:00:01\r\u001b[K     |█████████████████████████████   | 512kB 13.6MB/s eta 0:00:01\r\u001b[K     |█████████████████████████████▋  | 522kB 13.6MB/s eta 0:00:01\r\u001b[K     |██████████████████████████████▎ | 532kB 13.6MB/s eta 0:00:01\r\u001b[K     |██████████████████████████████▉ | 542kB 13.6MB/s eta 0:00:01\r\u001b[K     |███████████████████████████████▍| 552kB 13.6MB/s eta 0:00:01\r\u001b[K     |████████████████████████████████| 563kB 13.6MB/s eta 0:00:01\r\u001b[K     |████████████████████████████████| 573kB 13.6MB/s \n",
            "\u001b[?25hRequirement already satisfied: regex!=2019.12.17 in /usr/local/lib/python3.6/dist-packages (from transformers) (2019.12.20)\n",
            "Collecting tokenizers==0.5.2\n",
            "\u001b[?25l  Downloading https://files.pythonhosted.org/packages/d1/3f/73c881ea4723e43c1e9acf317cf407fab3a278daab3a69c98dcac511c04f/tokenizers-0.5.2-cp36-cp36m-manylinux1_x86_64.whl (3.7MB)\n",
            "\u001b[K     |████████████████████████████████| 3.7MB 45.0MB/s \n",
            "\u001b[?25hRequirement already satisfied: tqdm>=4.27 in /usr/local/lib/python3.6/dist-packages (from transformers) (4.38.0)\n",
            "Collecting sentencepiece\n",
            "\u001b[?25l  Downloading https://files.pythonhosted.org/packages/74/f4/2d5214cbf13d06e7cb2c20d84115ca25b53ea76fa1f0ade0e3c9749de214/sentencepiece-0.1.85-cp36-cp36m-manylinux1_x86_64.whl (1.0MB)\n",
            "\u001b[K     |████████████████████████████████| 1.0MB 19.6MB/s \n",
            "\u001b[?25hRequirement already satisfied: dataclasses; python_version < \"3.7\" in /usr/local/lib/python3.6/dist-packages (from transformers) (0.7)\n",
            "Requirement already satisfied: numpy in /usr/local/lib/python3.6/dist-packages (from transformers) (1.18.2)\n",
            "Collecting sacremoses\n",
            "\u001b[?25l  Downloading https://files.pythonhosted.org/packages/a6/b4/7a41d630547a4afd58143597d5a49e07bfd4c42914d8335b2a5657efc14b/sacremoses-0.0.38.tar.gz (860kB)\n",
            "\u001b[K     |████████████████████████████████| 870kB 47.6MB/s \n",
            "\u001b[?25hRequirement already satisfied: requests in /usr/local/lib/python3.6/dist-packages (from transformers) (2.21.0)\n",
            "Requirement already satisfied: boto3 in /usr/local/lib/python3.6/dist-packages (from transformers) (1.12.34)\n",
            "Requirement already satisfied: filelock in /usr/local/lib/python3.6/dist-packages (from transformers) (3.0.12)\n",
            "Requirement already satisfied: six in /usr/local/lib/python3.6/dist-packages (from sacremoses->transformers) (1.12.0)\n",
            "Requirement already satisfied: click in /usr/local/lib/python3.6/dist-packages (from sacremoses->transformers) (7.1.1)\n",
            "Requirement already satisfied: joblib in /usr/local/lib/python3.6/dist-packages (from sacremoses->transformers) (0.14.1)\n",
            "Requirement already satisfied: idna<2.9,>=2.5 in /usr/local/lib/python3.6/dist-packages (from requests->transformers) (2.8)\n",
            "Requirement already satisfied: urllib3<1.25,>=1.21.1 in /usr/local/lib/python3.6/dist-packages (from requests->transformers) (1.24.3)\n",
            "Requirement already satisfied: certifi>=2017.4.17 in /usr/local/lib/python3.6/dist-packages (from requests->transformers) (2019.11.28)\n",
            "Requirement already satisfied: chardet<3.1.0,>=3.0.2 in /usr/local/lib/python3.6/dist-packages (from requests->transformers) (3.0.4)\n",
            "Requirement already satisfied: jmespath<1.0.0,>=0.7.1 in /usr/local/lib/python3.6/dist-packages (from boto3->transformers) (0.9.5)\n",
            "Requirement already satisfied: s3transfer<0.4.0,>=0.3.0 in /usr/local/lib/python3.6/dist-packages (from boto3->transformers) (0.3.3)\n",
            "Requirement already satisfied: botocore<1.16.0,>=1.15.34 in /usr/local/lib/python3.6/dist-packages (from boto3->transformers) (1.15.34)\n",
            "Requirement already satisfied: python-dateutil<3.0.0,>=2.1 in /usr/local/lib/python3.6/dist-packages (from botocore<1.16.0,>=1.15.34->boto3->transformers) (2.8.1)\n",
            "Requirement already satisfied: docutils<0.16,>=0.10 in /usr/local/lib/python3.6/dist-packages (from botocore<1.16.0,>=1.15.34->boto3->transformers) (0.15.2)\n",
            "Building wheels for collected packages: sacremoses\n",
            "  Building wheel for sacremoses (setup.py) ... \u001b[?25l\u001b[?25hdone\n",
            "  Created wheel for sacremoses: filename=sacremoses-0.0.38-cp36-none-any.whl size=884628 sha256=aaaf2b64ff2801f415daf82332db5d21029693bc10387d701845a45ed8fa8b56\n",
            "  Stored in directory: /root/.cache/pip/wheels/6d/ec/1a/21b8912e35e02741306f35f66c785f3afe94de754a0eaf1422\n",
            "Successfully built sacremoses\n",
            "Installing collected packages: tokenizers, sentencepiece, sacremoses, transformers\n",
            "Successfully installed sacremoses-0.0.38 sentencepiece-0.1.85 tokenizers-0.5.2 transformers-2.8.0\n"
          ],
          "name": "stdout"
        }
      ]
    },
    {
      "cell_type": "code",
      "metadata": {
        "id": "Z8_mQkgPgasW",
        "colab_type": "code",
        "outputId": "6c02c235-1ec3-4173-d2d0-dd3c5060fffb",
        "colab": {
          "base_uri": "https://localhost:8080/",
          "height": 51
        }
      },
      "source": [
        "# Check if Colab's GPU is available and set up the GPU device\n",
        "import tensorflow as tf\n",
        "import torch\n",
        "\n",
        "device_name = tf.test.gpu_device_name()\n",
        "\n",
        "if device_name == '/device:GPU:0':\n",
        "    print('GPU is available')\n",
        "else:\n",
        "    raise SystemError('No GPU device available')\n",
        "\n",
        "if torch.cuda.is_available():\n",
        "    device = torch.device(\"cuda\")\n",
        "    print('GPU name and type:', torch.cuda.get_device_name(0))\n",
        "else:\n",
        "    print('No GPU available, using CPU')\n",
        "    device = torch.device(\"cpu\")"
      ],
      "execution_count": 2,
      "outputs": [
        {
          "output_type": "stream",
          "text": [
            "GPU is available\n",
            "GPU name and type: Tesla P4\n"
          ],
          "name": "stdout"
        }
      ]
    },
    {
      "cell_type": "markdown",
      "metadata": {
        "id": "m6X5lLSVrEkj",
        "colab_type": "text"
      },
      "source": [
        "# Data Preprocessing"
      ]
    },
    {
      "cell_type": "code",
      "metadata": {
        "id": "cQiDv4rylYkw",
        "colab_type": "code",
        "outputId": "9d92ac98-9f27-49e1-d2ce-82cfbaa5a585",
        "colab": {
          "base_uri": "https://localhost:8080/",
          "height": 136
        }
      },
      "source": [
        "# dataset pre-processing\n",
        "# load data_extraction.ipynb\n",
        "import pandas as pd\n",
        "import numpy as np\n",
        "\n",
        "iamc_ds = pd.read_json('iamc.json')\n",
        "tweets = []\n",
        "labels = []\n",
        "\n",
        "for annotator in iamc_ds:\n",
        "    tweets.extend(list(iamc_ds[annotator][0]))\n",
        "    labels.extend(list(iamc_ds[annotator][1]))\n",
        "\n",
        "tweets = np.array(tweets)\n",
        "labels = np.array(labels)\n",
        "\n",
        "print('example 1')\n",
        "print('tweet: ', tweets[0])\n",
        "print('label: ', labels[0])\n",
        "\n",
        "print('')\n",
        "print('example 2')\n",
        "print('tweet: ', tweets[1])\n",
        "print('label: ', labels[1])\n"
      ],
      "execution_count": 3,
      "outputs": [
        {
          "output_type": "stream",
          "text": [
            "example 1\n",
            "tweet:  wholeheartedli support protest ; act civil disobedi ; join !\n",
            "label:  [0 0 1 0 0 0 0 0 0 0 0]\n",
            "\n",
            "example 2\n",
            "tweet:  sandra bland situat man disrespect rest soul , peopl die everyday unjustifi matter\n",
            "label:  [0 0 0 0 1 1 0 0 0 0 0]\n"
          ],
          "name": "stdout"
        }
      ]
    },
    {
      "cell_type": "markdown",
      "metadata": {
        "id": "6qFUYwuZrd4e",
        "colab_type": "text"
      },
      "source": [
        "# Training Prep"
      ]
    },
    {
      "cell_type": "markdown",
      "metadata": {
        "id": "omQcPA7UrNVm",
        "colab_type": "text"
      },
      "source": [
        "### Input Tokenization & Encoding"
      ]
    },
    {
      "cell_type": "code",
      "metadata": {
        "id": "mfQNYUK2sGRO",
        "colab_type": "code",
        "outputId": "98212476-c438-4177-e716-1733afa566ee",
        "colab": {
          "base_uri": "https://localhost:8080/",
          "height": 134,
          "referenced_widgets": [
            "cb4277d206d74aee869c8e84e4987a30",
            "2e748c25237e401d849c06a1421e571b",
            "d20056a320a64c06aafcd8765166f10e",
            "07e23b8e39604e209cf0858ddad7531f",
            "84e1f62234364f8c830b71b1cebcc5f8",
            "48e09559add34c118020409728bf676e",
            "8276b7c76a6a49a48676bf861e4bd7b9",
            "e48c644eb1c54c46999fdfad3b170ba5"
          ]
        }
      },
      "source": [
        "from transformers import BertTokenizer\n",
        "\n",
        "print('Loading BERT tokenizer...')\n",
        "tokenizer = BertTokenizer.from_pretrained('bert-base-uncased', do_lower_case=True)\n",
        "\n",
        "# visualize BERT tokenization by an example\n",
        "print('Before:', tweets[0])\n",
        "print('After(words):', tokenizer.tokenize(tweets[0]))\n",
        "print('After(ids):', tokenizer.convert_tokens_to_ids(tokenizer.tokenize(tweets[0])))"
      ],
      "execution_count": 4,
      "outputs": [
        {
          "output_type": "stream",
          "text": [
            "Loading BERT tokenizer...\n"
          ],
          "name": "stdout"
        },
        {
          "output_type": "display_data",
          "data": {
            "application/vnd.jupyter.widget-view+json": {
              "model_id": "cb4277d206d74aee869c8e84e4987a30",
              "version_minor": 0,
              "version_major": 2
            },
            "text/plain": [
              "HBox(children=(IntProgress(value=0, description='Downloading', max=231508, style=ProgressStyle(description_wid…"
            ]
          },
          "metadata": {
            "tags": []
          }
        },
        {
          "output_type": "stream",
          "text": [
            "\n",
            "Before: wholeheartedli support protest ; act civil disobedi ; join !\n",
            "After(words): ['whole', '##hearted', '##li', 'support', 'protest', ';', 'act', 'civil', 'di', '##so', '##bed', '##i', ';', 'join', '!']\n",
            "After(ids): [2878, 27693, 3669, 2490, 6186, 1025, 2552, 2942, 4487, 6499, 8270, 2072, 1025, 3693, 999]\n"
          ],
          "name": "stdout"
        }
      ]
    },
    {
      "cell_type": "code",
      "metadata": {
        "id": "77-MUinHvdk9",
        "colab_type": "code",
        "outputId": "1979e6ab-40b7-477e-d927-13e750995a13",
        "colab": {
          "base_uri": "https://localhost:8080/",
          "height": 238
        }
      },
      "source": [
        "# Get the maximum length of the dataset since all input instances have to have a constant length\n",
        "max_len = 0\n",
        "\n",
        "for tweet in tweets:\n",
        "    max_len = max(max_len, len(tweet.split()))\n",
        "\n",
        "max_len += 2\n",
        "print('Max tweet length:', max_len)\n",
        "\n",
        "\n",
        "# tokenize all tweets, acquire corresponding token ids and attention masks\n",
        "input_ids = []\n",
        "attention_masks = []\n",
        "\n",
        "for tweet in tweets:\n",
        "    encoded_dict = tokenizer.encode_plus(tweet, \n",
        "                                         add_special_tokens=True, \n",
        "                                         max_length=max_len,\n",
        "                                         pad_to_max_length=True,\n",
        "                                         return_attention_mask=True,\n",
        "                                         return_tensors='pt'\n",
        "                                         )\n",
        "    \n",
        "\n",
        "    input_ids.append(encoded_dict['input_ids'])\n",
        "    attention_masks.append(encoded_dict['attention_mask'])\n",
        "\n",
        "input_ids = torch.cat(input_ids, dim=0)\n",
        "attention_masks = torch.cat(attention_masks, dim=0)\n",
        "labels = torch.tensor(labels, dtype=torch.float)\n",
        "\n",
        "# visualize tweet, tokenized ids and attention masks\n",
        "print('Original tweet: ', tweets[0])\n",
        "print('Token IDs:', input_ids[0])\n",
        "print('Attention Mask:', attention_masks[0])\n",
        "print('Labels:', labels[0])\n"
      ],
      "execution_count": 5,
      "outputs": [
        {
          "output_type": "stream",
          "text": [
            "Max tweet length: 70\n",
            "Original tweet:  wholeheartedli support protest ; act civil disobedi ; join !\n",
            "Token IDs: tensor([  101,  2878, 27693,  3669,  2490,  6186,  1025,  2552,  2942,  4487,\n",
            "         6499,  8270,  2072,  1025,  3693,   999,   102,     0,     0,     0,\n",
            "            0,     0,     0,     0,     0,     0,     0,     0,     0,     0,\n",
            "            0,     0,     0,     0,     0,     0,     0,     0,     0,     0,\n",
            "            0,     0,     0,     0,     0,     0,     0,     0,     0,     0,\n",
            "            0,     0,     0,     0,     0,     0,     0,     0,     0,     0,\n",
            "            0,     0,     0,     0,     0,     0,     0,     0,     0,     0])\n",
            "Attention Mask: tensor([1, 1, 1, 1, 1, 1, 1, 1, 1, 1, 1, 1, 1, 1, 1, 1, 1, 0, 0, 0, 0, 0, 0, 0,\n",
            "        0, 0, 0, 0, 0, 0, 0, 0, 0, 0, 0, 0, 0, 0, 0, 0, 0, 0, 0, 0, 0, 0, 0, 0,\n",
            "        0, 0, 0, 0, 0, 0, 0, 0, 0, 0, 0, 0, 0, 0, 0, 0, 0, 0, 0, 0, 0, 0])\n",
            "Labels: tensor([0., 0., 1., 0., 0., 0., 0., 0., 0., 0., 0.])\n"
          ],
          "name": "stdout"
        }
      ]
    },
    {
      "cell_type": "markdown",
      "metadata": {
        "id": "5LCo4ZmmrnnA",
        "colab_type": "text"
      },
      "source": [
        "### Training & Validation Split"
      ]
    },
    {
      "cell_type": "code",
      "metadata": {
        "id": "-K9bBXNtsIqf",
        "colab_type": "code",
        "outputId": "f5bab699-0fc8-4dcf-8f9a-de51d7289692",
        "colab": {
          "base_uri": "https://localhost:8080/",
          "height": 68
        }
      },
      "source": [
        "from torch.utils.data import TensorDataset, random_split, DataLoader, RandomSampler, SequentialSampler\n",
        "\n",
        "dataset = TensorDataset(input_ids, attention_masks, labels)\n",
        "\n",
        "# training 80% validation 10% testing 10%\n",
        "train_size = int(0.8 * len(dataset))\n",
        "val_size = int(0.1 * len(dataset))\n",
        "test_size = len(dataset) - train_size - val_size\n",
        "\n",
        "print('training dataset size:', train_size)\n",
        "print('validation dataset size:', val_size)\n",
        "print('testing dataset size:', test_size)\n",
        "\n",
        "train_ds, val_ds, test_ds = random_split(dataset, [train_size, val_size, test_size])\n",
        "\n",
        "# create a dataloader\n",
        "batch_size = 32\n",
        "\n",
        "train_dl = DataLoader(train_ds, \n",
        "                      sampler=RandomSampler(train_ds), \n",
        "                      batch_size=batch_size)\n",
        "\n",
        "val_dl = DataLoader(val_ds, \n",
        "                    sampler=SequentialSampler(val_ds), \n",
        "                    batch_size=batch_size)\n",
        "\n",
        "test_dl = DataLoader(test_ds, \n",
        "                    sampler=SequentialSampler(test_ds), \n",
        "                    batch_size=batch_size)\n"
      ],
      "execution_count": 6,
      "outputs": [
        {
          "output_type": "stream",
          "text": [
            "training dataset size: 55612\n",
            "validation dataset size: 6951\n",
            "testing dataset size: 6953\n"
          ],
          "name": "stdout"
        }
      ]
    },
    {
      "cell_type": "markdown",
      "metadata": {
        "id": "k7wj3u8FVdK_",
        "colab_type": "text"
      },
      "source": [
        "### Building Multi-Label BERT Model"
      ]
    },
    {
      "cell_type": "code",
      "metadata": {
        "id": "HlviX-FpVvVT",
        "colab_type": "code",
        "colab": {}
      },
      "source": [
        "from transformers import BertModel, BertConfig, BertPreTrainedModel\n",
        "from torch.nn import BCEWithLogitsLoss, Sigmoid\n",
        "\n",
        "class BertForMultiLabelSequenceClassification(BertPreTrainedModel):\n",
        "    \"\"\" \n",
        "    Bert for multi-label classification \n",
        "    \"\"\"\n",
        "    def __init__(self, config, num_labels=11):\n",
        "        super(BertForMultiLabelSequenceClassification, self).__init__(config)\n",
        "        self.num_labels = num_labels\n",
        "        self.bert = BertModel(config)\n",
        "        self.dropout = torch.nn.Dropout(config.hidden_dropout_prob)\n",
        "        self.classifier = torch.nn.Linear(config.hidden_size, num_labels)\n",
        "\n",
        "    \n",
        "    def forward(self, input_ids, token_type_ids=None, attention_mask=None, labels=None):\n",
        "        _, pooled_output = self.bert(input_ids, token_type_ids, attention_mask)\n",
        "        pooled_output = self.dropout(pooled_output)\n",
        "        logits = self.classifier(pooled_output)\n",
        "        \n",
        "        if labels is not None:\n",
        "            new_loss = BCEWithLogitsLoss()\n",
        "            loss = new_loss(logits.view(-1, self.num_labels), labels.view(-1, self.num_labels))\n",
        "            return loss, logits\n",
        "        else:\n",
        "            return logits"
      ],
      "execution_count": 0,
      "outputs": []
    },
    {
      "cell_type": "markdown",
      "metadata": {
        "id": "vSRiQzlJr-Sx",
        "colab_type": "text"
      },
      "source": [
        "### Model Visualization"
      ]
    },
    {
      "cell_type": "code",
      "metadata": {
        "id": "cxaFYgK0rnSP",
        "colab_type": "code",
        "outputId": "231072b2-2dbd-483e-89e9-db70a5f68ab7",
        "colab": {
          "base_uri": "https://localhost:8080/",
          "height": 1000,
          "referenced_widgets": [
            "de006970aaad42f0bf0927fcb5a76f6a",
            "c2cbb53a9c374d789d2667aad5b0bd97",
            "6c869030a2f0400399e722b0fe047fe4",
            "4608d1ae4c7a4f8281dbc9c5a21128c5",
            "71aaee4c4a854814b3c7221031cf3f16",
            "0f8863d183024abba379afb877db7dea",
            "378ae743900c48ad8e8e19be7d89591f",
            "ebd9ba4893a64f5282bfd367e127b3a0",
            "9a3950dc52114bc7a12a0b45a66e1251",
            "8b4e7d43d03e4826a3bdd01187576308",
            "f17100eccd56437abb259ce2cccbba76",
            "ea0a68edafcd4b2a8fa44d6d0be60f0e",
            "44b668e1b2204aaebeeb5db2ae1e68b3",
            "a7f28be7fe1a4f0f9dc40c5d43fdacac",
            "25f08c73551b444b97f1139a4c454b19",
            "cfaf5ca73faa4d1599209a4df7ac1dc9"
          ]
        }
      },
      "source": [
        "model = BertForMultiLabelSequenceClassification.from_pretrained(\"bert-base-uncased\", \n",
        "                                                                 output_attentions=False, \n",
        "                                                                 output_hidden_states=False)\n",
        "\n",
        "model.cuda()\n",
        "\n",
        "#visualize\n",
        "params = list(model.named_parameters())\n",
        "\n",
        "for p in params:\n",
        "    print(\"{:<60} {:>15}\".format(p[0], str(tuple(p[1].size()))))\n"
      ],
      "execution_count": 8,
      "outputs": [
        {
          "output_type": "display_data",
          "data": {
            "application/vnd.jupyter.widget-view+json": {
              "model_id": "de006970aaad42f0bf0927fcb5a76f6a",
              "version_minor": 0,
              "version_major": 2
            },
            "text/plain": [
              "HBox(children=(IntProgress(value=0, description='Downloading', max=361, style=ProgressStyle(description_width=…"
            ]
          },
          "metadata": {
            "tags": []
          }
        },
        {
          "output_type": "stream",
          "text": [
            "\n"
          ],
          "name": "stdout"
        },
        {
          "output_type": "display_data",
          "data": {
            "application/vnd.jupyter.widget-view+json": {
              "model_id": "9a3950dc52114bc7a12a0b45a66e1251",
              "version_minor": 0,
              "version_major": 2
            },
            "text/plain": [
              "HBox(children=(IntProgress(value=0, description='Downloading', max=440473133, style=ProgressStyle(description_…"
            ]
          },
          "metadata": {
            "tags": []
          }
        },
        {
          "output_type": "stream",
          "text": [
            "\n",
            "bert.embeddings.word_embeddings.weight                          (30522, 768)\n",
            "bert.embeddings.position_embeddings.weight                        (512, 768)\n",
            "bert.embeddings.token_type_embeddings.weight                        (2, 768)\n",
            "bert.embeddings.LayerNorm.weight                                      (768,)\n",
            "bert.embeddings.LayerNorm.bias                                        (768,)\n",
            "bert.encoder.layer.0.attention.self.query.weight                  (768, 768)\n",
            "bert.encoder.layer.0.attention.self.query.bias                        (768,)\n",
            "bert.encoder.layer.0.attention.self.key.weight                    (768, 768)\n",
            "bert.encoder.layer.0.attention.self.key.bias                          (768,)\n",
            "bert.encoder.layer.0.attention.self.value.weight                  (768, 768)\n",
            "bert.encoder.layer.0.attention.self.value.bias                        (768,)\n",
            "bert.encoder.layer.0.attention.output.dense.weight                (768, 768)\n",
            "bert.encoder.layer.0.attention.output.dense.bias                      (768,)\n",
            "bert.encoder.layer.0.attention.output.LayerNorm.weight                (768,)\n",
            "bert.encoder.layer.0.attention.output.LayerNorm.bias                  (768,)\n",
            "bert.encoder.layer.0.intermediate.dense.weight                   (3072, 768)\n",
            "bert.encoder.layer.0.intermediate.dense.bias                         (3072,)\n",
            "bert.encoder.layer.0.output.dense.weight                         (768, 3072)\n",
            "bert.encoder.layer.0.output.dense.bias                                (768,)\n",
            "bert.encoder.layer.0.output.LayerNorm.weight                          (768,)\n",
            "bert.encoder.layer.0.output.LayerNorm.bias                            (768,)\n",
            "bert.encoder.layer.1.attention.self.query.weight                  (768, 768)\n",
            "bert.encoder.layer.1.attention.self.query.bias                        (768,)\n",
            "bert.encoder.layer.1.attention.self.key.weight                    (768, 768)\n",
            "bert.encoder.layer.1.attention.self.key.bias                          (768,)\n",
            "bert.encoder.layer.1.attention.self.value.weight                  (768, 768)\n",
            "bert.encoder.layer.1.attention.self.value.bias                        (768,)\n",
            "bert.encoder.layer.1.attention.output.dense.weight                (768, 768)\n",
            "bert.encoder.layer.1.attention.output.dense.bias                      (768,)\n",
            "bert.encoder.layer.1.attention.output.LayerNorm.weight                (768,)\n",
            "bert.encoder.layer.1.attention.output.LayerNorm.bias                  (768,)\n",
            "bert.encoder.layer.1.intermediate.dense.weight                   (3072, 768)\n",
            "bert.encoder.layer.1.intermediate.dense.bias                         (3072,)\n",
            "bert.encoder.layer.1.output.dense.weight                         (768, 3072)\n",
            "bert.encoder.layer.1.output.dense.bias                                (768,)\n",
            "bert.encoder.layer.1.output.LayerNorm.weight                          (768,)\n",
            "bert.encoder.layer.1.output.LayerNorm.bias                            (768,)\n",
            "bert.encoder.layer.2.attention.self.query.weight                  (768, 768)\n",
            "bert.encoder.layer.2.attention.self.query.bias                        (768,)\n",
            "bert.encoder.layer.2.attention.self.key.weight                    (768, 768)\n",
            "bert.encoder.layer.2.attention.self.key.bias                          (768,)\n",
            "bert.encoder.layer.2.attention.self.value.weight                  (768, 768)\n",
            "bert.encoder.layer.2.attention.self.value.bias                        (768,)\n",
            "bert.encoder.layer.2.attention.output.dense.weight                (768, 768)\n",
            "bert.encoder.layer.2.attention.output.dense.bias                      (768,)\n",
            "bert.encoder.layer.2.attention.output.LayerNorm.weight                (768,)\n",
            "bert.encoder.layer.2.attention.output.LayerNorm.bias                  (768,)\n",
            "bert.encoder.layer.2.intermediate.dense.weight                   (3072, 768)\n",
            "bert.encoder.layer.2.intermediate.dense.bias                         (3072,)\n",
            "bert.encoder.layer.2.output.dense.weight                         (768, 3072)\n",
            "bert.encoder.layer.2.output.dense.bias                                (768,)\n",
            "bert.encoder.layer.2.output.LayerNorm.weight                          (768,)\n",
            "bert.encoder.layer.2.output.LayerNorm.bias                            (768,)\n",
            "bert.encoder.layer.3.attention.self.query.weight                  (768, 768)\n",
            "bert.encoder.layer.3.attention.self.query.bias                        (768,)\n",
            "bert.encoder.layer.3.attention.self.key.weight                    (768, 768)\n",
            "bert.encoder.layer.3.attention.self.key.bias                          (768,)\n",
            "bert.encoder.layer.3.attention.self.value.weight                  (768, 768)\n",
            "bert.encoder.layer.3.attention.self.value.bias                        (768,)\n",
            "bert.encoder.layer.3.attention.output.dense.weight                (768, 768)\n",
            "bert.encoder.layer.3.attention.output.dense.bias                      (768,)\n",
            "bert.encoder.layer.3.attention.output.LayerNorm.weight                (768,)\n",
            "bert.encoder.layer.3.attention.output.LayerNorm.bias                  (768,)\n",
            "bert.encoder.layer.3.intermediate.dense.weight                   (3072, 768)\n",
            "bert.encoder.layer.3.intermediate.dense.bias                         (3072,)\n",
            "bert.encoder.layer.3.output.dense.weight                         (768, 3072)\n",
            "bert.encoder.layer.3.output.dense.bias                                (768,)\n",
            "bert.encoder.layer.3.output.LayerNorm.weight                          (768,)\n",
            "bert.encoder.layer.3.output.LayerNorm.bias                            (768,)\n",
            "bert.encoder.layer.4.attention.self.query.weight                  (768, 768)\n",
            "bert.encoder.layer.4.attention.self.query.bias                        (768,)\n",
            "bert.encoder.layer.4.attention.self.key.weight                    (768, 768)\n",
            "bert.encoder.layer.4.attention.self.key.bias                          (768,)\n",
            "bert.encoder.layer.4.attention.self.value.weight                  (768, 768)\n",
            "bert.encoder.layer.4.attention.self.value.bias                        (768,)\n",
            "bert.encoder.layer.4.attention.output.dense.weight                (768, 768)\n",
            "bert.encoder.layer.4.attention.output.dense.bias                      (768,)\n",
            "bert.encoder.layer.4.attention.output.LayerNorm.weight                (768,)\n",
            "bert.encoder.layer.4.attention.output.LayerNorm.bias                  (768,)\n",
            "bert.encoder.layer.4.intermediate.dense.weight                   (3072, 768)\n",
            "bert.encoder.layer.4.intermediate.dense.bias                         (3072,)\n",
            "bert.encoder.layer.4.output.dense.weight                         (768, 3072)\n",
            "bert.encoder.layer.4.output.dense.bias                                (768,)\n",
            "bert.encoder.layer.4.output.LayerNorm.weight                          (768,)\n",
            "bert.encoder.layer.4.output.LayerNorm.bias                            (768,)\n",
            "bert.encoder.layer.5.attention.self.query.weight                  (768, 768)\n",
            "bert.encoder.layer.5.attention.self.query.bias                        (768,)\n",
            "bert.encoder.layer.5.attention.self.key.weight                    (768, 768)\n",
            "bert.encoder.layer.5.attention.self.key.bias                          (768,)\n",
            "bert.encoder.layer.5.attention.self.value.weight                  (768, 768)\n",
            "bert.encoder.layer.5.attention.self.value.bias                        (768,)\n",
            "bert.encoder.layer.5.attention.output.dense.weight                (768, 768)\n",
            "bert.encoder.layer.5.attention.output.dense.bias                      (768,)\n",
            "bert.encoder.layer.5.attention.output.LayerNorm.weight                (768,)\n",
            "bert.encoder.layer.5.attention.output.LayerNorm.bias                  (768,)\n",
            "bert.encoder.layer.5.intermediate.dense.weight                   (3072, 768)\n",
            "bert.encoder.layer.5.intermediate.dense.bias                         (3072,)\n",
            "bert.encoder.layer.5.output.dense.weight                         (768, 3072)\n",
            "bert.encoder.layer.5.output.dense.bias                                (768,)\n",
            "bert.encoder.layer.5.output.LayerNorm.weight                          (768,)\n",
            "bert.encoder.layer.5.output.LayerNorm.bias                            (768,)\n",
            "bert.encoder.layer.6.attention.self.query.weight                  (768, 768)\n",
            "bert.encoder.layer.6.attention.self.query.bias                        (768,)\n",
            "bert.encoder.layer.6.attention.self.key.weight                    (768, 768)\n",
            "bert.encoder.layer.6.attention.self.key.bias                          (768,)\n",
            "bert.encoder.layer.6.attention.self.value.weight                  (768, 768)\n",
            "bert.encoder.layer.6.attention.self.value.bias                        (768,)\n",
            "bert.encoder.layer.6.attention.output.dense.weight                (768, 768)\n",
            "bert.encoder.layer.6.attention.output.dense.bias                      (768,)\n",
            "bert.encoder.layer.6.attention.output.LayerNorm.weight                (768,)\n",
            "bert.encoder.layer.6.attention.output.LayerNorm.bias                  (768,)\n",
            "bert.encoder.layer.6.intermediate.dense.weight                   (3072, 768)\n",
            "bert.encoder.layer.6.intermediate.dense.bias                         (3072,)\n",
            "bert.encoder.layer.6.output.dense.weight                         (768, 3072)\n",
            "bert.encoder.layer.6.output.dense.bias                                (768,)\n",
            "bert.encoder.layer.6.output.LayerNorm.weight                          (768,)\n",
            "bert.encoder.layer.6.output.LayerNorm.bias                            (768,)\n",
            "bert.encoder.layer.7.attention.self.query.weight                  (768, 768)\n",
            "bert.encoder.layer.7.attention.self.query.bias                        (768,)\n",
            "bert.encoder.layer.7.attention.self.key.weight                    (768, 768)\n",
            "bert.encoder.layer.7.attention.self.key.bias                          (768,)\n",
            "bert.encoder.layer.7.attention.self.value.weight                  (768, 768)\n",
            "bert.encoder.layer.7.attention.self.value.bias                        (768,)\n",
            "bert.encoder.layer.7.attention.output.dense.weight                (768, 768)\n",
            "bert.encoder.layer.7.attention.output.dense.bias                      (768,)\n",
            "bert.encoder.layer.7.attention.output.LayerNorm.weight                (768,)\n",
            "bert.encoder.layer.7.attention.output.LayerNorm.bias                  (768,)\n",
            "bert.encoder.layer.7.intermediate.dense.weight                   (3072, 768)\n",
            "bert.encoder.layer.7.intermediate.dense.bias                         (3072,)\n",
            "bert.encoder.layer.7.output.dense.weight                         (768, 3072)\n",
            "bert.encoder.layer.7.output.dense.bias                                (768,)\n",
            "bert.encoder.layer.7.output.LayerNorm.weight                          (768,)\n",
            "bert.encoder.layer.7.output.LayerNorm.bias                            (768,)\n",
            "bert.encoder.layer.8.attention.self.query.weight                  (768, 768)\n",
            "bert.encoder.layer.8.attention.self.query.bias                        (768,)\n",
            "bert.encoder.layer.8.attention.self.key.weight                    (768, 768)\n",
            "bert.encoder.layer.8.attention.self.key.bias                          (768,)\n",
            "bert.encoder.layer.8.attention.self.value.weight                  (768, 768)\n",
            "bert.encoder.layer.8.attention.self.value.bias                        (768,)\n",
            "bert.encoder.layer.8.attention.output.dense.weight                (768, 768)\n",
            "bert.encoder.layer.8.attention.output.dense.bias                      (768,)\n",
            "bert.encoder.layer.8.attention.output.LayerNorm.weight                (768,)\n",
            "bert.encoder.layer.8.attention.output.LayerNorm.bias                  (768,)\n",
            "bert.encoder.layer.8.intermediate.dense.weight                   (3072, 768)\n",
            "bert.encoder.layer.8.intermediate.dense.bias                         (3072,)\n",
            "bert.encoder.layer.8.output.dense.weight                         (768, 3072)\n",
            "bert.encoder.layer.8.output.dense.bias                                (768,)\n",
            "bert.encoder.layer.8.output.LayerNorm.weight                          (768,)\n",
            "bert.encoder.layer.8.output.LayerNorm.bias                            (768,)\n",
            "bert.encoder.layer.9.attention.self.query.weight                  (768, 768)\n",
            "bert.encoder.layer.9.attention.self.query.bias                        (768,)\n",
            "bert.encoder.layer.9.attention.self.key.weight                    (768, 768)\n",
            "bert.encoder.layer.9.attention.self.key.bias                          (768,)\n",
            "bert.encoder.layer.9.attention.self.value.weight                  (768, 768)\n",
            "bert.encoder.layer.9.attention.self.value.bias                        (768,)\n",
            "bert.encoder.layer.9.attention.output.dense.weight                (768, 768)\n",
            "bert.encoder.layer.9.attention.output.dense.bias                      (768,)\n",
            "bert.encoder.layer.9.attention.output.LayerNorm.weight                (768,)\n",
            "bert.encoder.layer.9.attention.output.LayerNorm.bias                  (768,)\n",
            "bert.encoder.layer.9.intermediate.dense.weight                   (3072, 768)\n",
            "bert.encoder.layer.9.intermediate.dense.bias                         (3072,)\n",
            "bert.encoder.layer.9.output.dense.weight                         (768, 3072)\n",
            "bert.encoder.layer.9.output.dense.bias                                (768,)\n",
            "bert.encoder.layer.9.output.LayerNorm.weight                          (768,)\n",
            "bert.encoder.layer.9.output.LayerNorm.bias                            (768,)\n",
            "bert.encoder.layer.10.attention.self.query.weight                 (768, 768)\n",
            "bert.encoder.layer.10.attention.self.query.bias                       (768,)\n",
            "bert.encoder.layer.10.attention.self.key.weight                   (768, 768)\n",
            "bert.encoder.layer.10.attention.self.key.bias                         (768,)\n",
            "bert.encoder.layer.10.attention.self.value.weight                 (768, 768)\n",
            "bert.encoder.layer.10.attention.self.value.bias                       (768,)\n",
            "bert.encoder.layer.10.attention.output.dense.weight               (768, 768)\n",
            "bert.encoder.layer.10.attention.output.dense.bias                     (768,)\n",
            "bert.encoder.layer.10.attention.output.LayerNorm.weight               (768,)\n",
            "bert.encoder.layer.10.attention.output.LayerNorm.bias                 (768,)\n",
            "bert.encoder.layer.10.intermediate.dense.weight                  (3072, 768)\n",
            "bert.encoder.layer.10.intermediate.dense.bias                        (3072,)\n",
            "bert.encoder.layer.10.output.dense.weight                        (768, 3072)\n",
            "bert.encoder.layer.10.output.dense.bias                               (768,)\n",
            "bert.encoder.layer.10.output.LayerNorm.weight                         (768,)\n",
            "bert.encoder.layer.10.output.LayerNorm.bias                           (768,)\n",
            "bert.encoder.layer.11.attention.self.query.weight                 (768, 768)\n",
            "bert.encoder.layer.11.attention.self.query.bias                       (768,)\n",
            "bert.encoder.layer.11.attention.self.key.weight                   (768, 768)\n",
            "bert.encoder.layer.11.attention.self.key.bias                         (768,)\n",
            "bert.encoder.layer.11.attention.self.value.weight                 (768, 768)\n",
            "bert.encoder.layer.11.attention.self.value.bias                       (768,)\n",
            "bert.encoder.layer.11.attention.output.dense.weight               (768, 768)\n",
            "bert.encoder.layer.11.attention.output.dense.bias                     (768,)\n",
            "bert.encoder.layer.11.attention.output.LayerNorm.weight               (768,)\n",
            "bert.encoder.layer.11.attention.output.LayerNorm.bias                 (768,)\n",
            "bert.encoder.layer.11.intermediate.dense.weight                  (3072, 768)\n",
            "bert.encoder.layer.11.intermediate.dense.bias                        (3072,)\n",
            "bert.encoder.layer.11.output.dense.weight                        (768, 3072)\n",
            "bert.encoder.layer.11.output.dense.bias                               (768,)\n",
            "bert.encoder.layer.11.output.LayerNorm.weight                         (768,)\n",
            "bert.encoder.layer.11.output.LayerNorm.bias                           (768,)\n",
            "bert.pooler.dense.weight                                          (768, 768)\n",
            "bert.pooler.dense.bias                                                (768,)\n",
            "classifier.weight                                                  (11, 768)\n",
            "classifier.bias                                                        (11,)\n"
          ],
          "name": "stdout"
        }
      ]
    },
    {
      "cell_type": "markdown",
      "metadata": {
        "id": "tpcl1aBYaD6y",
        "colab_type": "text"
      },
      "source": [
        "### Optimizer & Learning Rate Scheduler"
      ]
    },
    {
      "cell_type": "code",
      "metadata": {
        "id": "rwbBN5C3aJxb",
        "colab_type": "code",
        "colab": {}
      },
      "source": [
        "from transformers import get_linear_schedule_with_warmup, AdamW\n",
        "\n",
        "# set up the optimizer\n",
        "optimizer = AdamW(model.parameters(),\n",
        "                  lr=2e-5,\n",
        "                  eps=1e-8)\n",
        "\n",
        "# set up the lr scheduler\n",
        "epochs = 3\n",
        "total_steps = len(train_dl) * epochs\n",
        "\n",
        "scheduler = get_linear_schedule_with_warmup(optimizer,\n",
        "                                            num_warmup_steps=0,\n",
        "                                            num_training_steps=total_steps)"
      ],
      "execution_count": 0,
      "outputs": []
    },
    {
      "cell_type": "markdown",
      "metadata": {
        "id": "QVHPS3_nbOM-",
        "colab_type": "text"
      },
      "source": [
        "### Helper Functions"
      ]
    },
    {
      "cell_type": "code",
      "metadata": {
        "id": "tkoALr0NbZjN",
        "colab_type": "code",
        "colab": {}
      },
      "source": [
        "import time\n",
        "import datetime\n",
        "from sklearn.metrics import hamming_loss, accuracy_score\n",
        "\n",
        "def get_accuracy_hamming_loss(preds, labels):\n",
        "    preds = preds >= 0.5\n",
        "\n",
        "    return 1 - hamming_loss(preds, labels)\n",
        "\n",
        "def get_accuracy_exact_match(preds, labels):\n",
        "    preds = preds >= 0.5\n",
        "\n",
        "    return accuracy_score(preds, labels)\n",
        "\n",
        "# correct labels out of cases where prediction and labels are not both 0\n",
        "def get_accuracy_none_zero(preds, labels):\n",
        "    preds = preds >= 0.5\n",
        "\n",
        "    total = []\n",
        "    for i in range(len(preds)):\n",
        "        suM = 0\n",
        "        for j in range(len(preds[i])):\n",
        "            correct = 0\n",
        "            #correct\n",
        "            if preds[i][j] == 1 and labels[i][j]== 1 :\n",
        "                suM += 1\n",
        "                correct += 1\n",
        "            #missed \n",
        "            elif labels[i][j]== 1 and preds[i][j] == 0:\n",
        "                suM += 1\n",
        "            elif labels[i][j]== 0 and preds[i][j] == 1:\n",
        "                suM += 1\n",
        "        \n",
        "        if suM != 0:\n",
        "            total.append(correct/suM)\n",
        "\n",
        "    return np.mean(total)\n",
        "                \n",
        "\n",
        "# take a time in seconds and returns a string hh:mm:ss\n",
        "def format_time(elapsed):\n",
        "    elapsed_rounded = int(round((elapsed)))\n",
        "    \n",
        "    return str(datetime.timedelta(seconds=elapsed_rounded))\n"
      ],
      "execution_count": 0,
      "outputs": []
    },
    {
      "cell_type": "markdown",
      "metadata": {
        "id": "-MYO6-Fsr2cJ",
        "colab_type": "text"
      },
      "source": [
        "# Training"
      ]
    },
    {
      "cell_type": "code",
      "metadata": {
        "id": "RtvWruZIZSRC",
        "colab_type": "code",
        "outputId": "ee3377ef-cc2c-4954-f879-53df674cae55",
        "colab": {
          "base_uri": "https://localhost:8080/",
          "height": 334
        }
      },
      "source": [
        "import random\n",
        "\n",
        "seed_val = 1\n",
        "random.seed(seed_val)\n",
        "np.random.seed(seed_val)\n",
        "torch.manual_seed(seed_val)\n",
        "torch.cuda.manual_seed_all(seed_val)\n",
        "\n",
        "training_stats = []\n",
        "\n",
        "total_t0 = time.time() \n",
        "\n",
        "# initialize BERT weights\n",
        "model.init_weights()\n",
        "\n",
        "for epoch_i in range(0, epochs):\n",
        "    print(\"\")\n",
        "    print('======= Epoch {:} / {:} ========'.format(epoch_i + 1, epochs))\n",
        "    print(\"\")\n",
        "\n",
        "    t0 = time.time()\n",
        "    total_train_loss = 0\n",
        "    model.train()\n",
        "\n",
        "    for step, batch in enumerate(train_dl):\n",
        "        # periodically update elapsed time\n",
        "        if step % 40 == 0 and not step == 0:\n",
        "            elapsed = format_time(time.time() - t0)\n",
        "\n",
        "            print('Batch {:>5,} of {:>5,}. Elapsed: {:}.'.format(step, \n",
        "                                                                 len(train_dl), \n",
        "                                                                 elapsed))\n",
        "        # unpack current batch's input & labels   \n",
        "        cur_input_ids = batch[0].to(device)\n",
        "        cur_input_mask = batch[1].to(device)\n",
        "        cur_labels = batch[2].to(device)\n",
        "\n",
        "        # clear previously calculated gradients\n",
        "        model.zero_grad()\n",
        "\n",
        "        # perform a forward pass\n",
        "        # logits = classifications, before activation function e.x. softmax\n",
        "        loss, logits = model(cur_input_ids, \n",
        "                             token_type_ids=None,\n",
        "                             attention_mask=cur_input_mask,\n",
        "                             labels=cur_labels)\n",
        "                \n",
        "        # accumulate training loss\n",
        "        total_train_loss += loss.item()\n",
        "\n",
        "        # perform a backward pass to calculate the gradients of params\n",
        "        loss.backward()\n",
        "\n",
        "        # clip the gradients if it is not in [-1,1]\n",
        "        # torch.nn.utils.clip_grad_norm_(model.parameters(), 1.0)\n",
        "\n",
        "        # update weights\n",
        "        optimizer.step()\n",
        "\n",
        "        # update lr\n",
        "        scheduler.step()\n",
        "\n",
        "    # calculate stats after 1 epoch of training\n",
        "    avg_train_loss = total_train_loss / len(train_dl)\n",
        "    training_time = format_time(time.time() - t0)\n",
        "\n",
        "    print(\"\")\n",
        "    print(\"  Average training loss: {0:.2f}\".format(avg_train_loss))\n",
        "    print(\"  Training epcoh took: {:}\".format(training_time))\n",
        "\n",
        "    # validation \n",
        "    print(\"\")\n",
        "    print(\"Validating...\")\n",
        "\n",
        "    t0 = time.time()\n",
        "\n",
        "    model.eval()\n",
        "\n",
        "    total_eval_accuracy_hamming_loss = 0\n",
        "    total_eval_accuracy_exact_match = 0\n",
        "    total_eval_loss = 0\n",
        "    nb_eval_steps = 0\n",
        "\n",
        "    for batch in val_dl:\n",
        "        \n",
        "        # unpack current batch's input and labels\n",
        "        cur_input_ids = batch[0].to(device)\n",
        "        cur_input_mask = batch[1].to(device)\n",
        "        cur_labels = batch[2].to(device)\n",
        "\n",
        "        # no need to calculate and trace gradient\n",
        "        with torch.no_grad():\n",
        "            loss, logits = model(cur_input_ids,\n",
        "                                   token_type_ids=None,\n",
        "                                   attention_mask=cur_input_mask,\n",
        "                                   labels=cur_labels)\n",
        "                    \n",
        "        # no need to calculate prediction & labels in gpu\n",
        "        # good practice when involves with large-scale dataset\n",
        "        logits = logits.detach().cpu().numpy()\n",
        "        label_ids = cur_labels.to('cpu')\n",
        "        \n",
        "        # calculate this batch's accuracy & loss and accumulate with other \n",
        "        # batches' accuracies & loss\n",
        "        total_eval_accuracy_hamming_loss += get_accuracy_hamming_loss(logits, label_ids)\n",
        "        total_eval_accuracy_exact_match += get_accuracy_exact_match(logits, label_ids)\n",
        "        \n",
        "        total_eval_loss += loss.item()\n",
        "\n",
        "    # average out loss and accuracy across all batches\n",
        "    avg_val_accuracy_hamming_loss = total_eval_accuracy_hamming_loss / len(val_dl)\n",
        "    avg_val_accuracy_exact_match = total_eval_accuracy_exact_match / len(val_dl)\n",
        "    avg_val_loss = total_eval_loss / len(val_dl)\n",
        "    validation_time = format_time(time.time() - t0)\n",
        "\n",
        "    print(\"Loss: {0:.2f}, Time elapsed: {1:}\".format(avg_val_loss, validation_time))\n",
        "    print(\"==== Accuracy ====\")\n",
        "    print(\"Hamming Loss:\", avg_val_accuracy_hamming_loss)\n",
        "    print(\"Exact Match\", avg_val_accuracy_exact_match)\n",
        "\n",
        "\n",
        "    # record all statistics for this epoch\n",
        "    training_stats.append({\n",
        "        'epoch': epoch_i + 1,\n",
        "        'Training Loss': avg_train_loss,\n",
        "        'Valid. Loss': avg_val_loss,\n",
        "        'Valid. Accur': avg_val_accuracy_hamming_loss,\n",
        "        'Training Time': training_time,\n",
        "        'Validation Time': validation_time\n",
        "    })\n",
        "\n",
        "\n",
        "print(\"\")\n",
        "print(\"Training Completed. Training took {:}\".format(format_time(time.time() - total_t0)))\n"
      ],
      "execution_count": 11,
      "outputs": [
        {
          "output_type": "stream",
          "text": [
            "\n",
            "======= Epoch 1 / 3 ========\n",
            "\n",
            "Batch    40 of 1,738. Elapsed: 0:00:18.\n",
            "Batch    80 of 1,738. Elapsed: 0:00:36.\n",
            "Batch   120 of 1,738. Elapsed: 0:00:53.\n"
          ],
          "name": "stdout"
        },
        {
          "output_type": "error",
          "ename": "KeyboardInterrupt",
          "evalue": "ignored",
          "traceback": [
            "\u001b[0;31m---------------------------------------------------------------------------\u001b[0m",
            "\u001b[0;31mKeyboardInterrupt\u001b[0m                         Traceback (most recent call last)",
            "\u001b[0;32m<ipython-input-11-7d1edca0df00>\u001b[0m in \u001b[0;36m<module>\u001b[0;34m()\u001b[0m\n\u001b[1;32m     47\u001b[0m \u001b[0;34m\u001b[0m\u001b[0m\n\u001b[1;32m     48\u001b[0m         \u001b[0;31m# accumulate training loss\u001b[0m\u001b[0;34m\u001b[0m\u001b[0;34m\u001b[0m\u001b[0;34m\u001b[0m\u001b[0m\n\u001b[0;32m---> 49\u001b[0;31m         \u001b[0mtotal_train_loss\u001b[0m \u001b[0;34m+=\u001b[0m \u001b[0mloss\u001b[0m\u001b[0;34m.\u001b[0m\u001b[0mitem\u001b[0m\u001b[0;34m(\u001b[0m\u001b[0;34m)\u001b[0m\u001b[0;34m\u001b[0m\u001b[0;34m\u001b[0m\u001b[0m\n\u001b[0m\u001b[1;32m     50\u001b[0m \u001b[0;34m\u001b[0m\u001b[0m\n\u001b[1;32m     51\u001b[0m         \u001b[0;31m# perform a backward pass to calculate the gradients of params\u001b[0m\u001b[0;34m\u001b[0m\u001b[0;34m\u001b[0m\u001b[0;34m\u001b[0m\u001b[0m\n",
            "\u001b[0;31mKeyboardInterrupt\u001b[0m: "
          ]
        }
      ]
    },
    {
      "cell_type": "code",
      "metadata": {
        "id": "1Xpcd9gUwjqb",
        "colab_type": "code",
        "outputId": "db1b2054-7f19-4245-ded4-47c2c0281113",
        "colab": {
          "base_uri": "https://localhost:8080/",
          "height": 173
        }
      },
      "source": [
        "# Display training stats\n",
        "# Display numbers with two decimal\n",
        "pd.set_option('precision', 2)\n",
        "\n",
        "df_stats = pd.DataFrame(data=training_stats)\n",
        "df_stats = df_stats.set_index('epoch')\n",
        "\n",
        "df_stats"
      ],
      "execution_count": 0,
      "outputs": [
        {
          "output_type": "execute_result",
          "data": {
            "text/html": [
              "<div>\n",
              "<style scoped>\n",
              "    .dataframe tbody tr th:only-of-type {\n",
              "        vertical-align: middle;\n",
              "    }\n",
              "\n",
              "    .dataframe tbody tr th {\n",
              "        vertical-align: top;\n",
              "    }\n",
              "\n",
              "    .dataframe thead th {\n",
              "        text-align: right;\n",
              "    }\n",
              "</style>\n",
              "<table border=\"1\" class=\"dataframe\">\n",
              "  <thead>\n",
              "    <tr style=\"text-align: right;\">\n",
              "      <th></th>\n",
              "      <th>Training Loss</th>\n",
              "      <th>Valid. Loss</th>\n",
              "      <th>Valid. Accur</th>\n",
              "      <th>Training Time</th>\n",
              "      <th>Validation Time</th>\n",
              "    </tr>\n",
              "    <tr>\n",
              "      <th>epoch</th>\n",
              "      <th></th>\n",
              "      <th></th>\n",
              "      <th></th>\n",
              "      <th></th>\n",
              "      <th></th>\n",
              "    </tr>\n",
              "  </thead>\n",
              "  <tbody>\n",
              "    <tr>\n",
              "      <th>1</th>\n",
              "      <td>0.69</td>\n",
              "      <td>0.69</td>\n",
              "      <td>0.87</td>\n",
              "      <td>0:01:35</td>\n",
              "      <td>0:00:03</td>\n",
              "    </tr>\n",
              "    <tr>\n",
              "      <th>2</th>\n",
              "      <td>0.69</td>\n",
              "      <td>0.69</td>\n",
              "      <td>0.87</td>\n",
              "      <td>0:01:35</td>\n",
              "      <td>0:00:03</td>\n",
              "    </tr>\n",
              "    <tr>\n",
              "      <th>3</th>\n",
              "      <td>0.69</td>\n",
              "      <td>0.69</td>\n",
              "      <td>0.87</td>\n",
              "      <td>0:01:35</td>\n",
              "      <td>0:00:03</td>\n",
              "    </tr>\n",
              "  </tbody>\n",
              "</table>\n",
              "</div>"
            ],
            "text/plain": [
              "       Training Loss  Valid. Loss  Valid. Accur Training Time Validation Time\n",
              "epoch                                                                        \n",
              "1               0.69         0.69          0.87       0:01:35         0:00:03\n",
              "2               0.69         0.69          0.87       0:01:35         0:00:03\n",
              "3               0.69         0.69          0.87       0:01:35         0:00:03"
            ]
          },
          "metadata": {
            "tags": []
          },
          "execution_count": 61
        }
      ]
    },
    {
      "cell_type": "code",
      "metadata": {
        "id": "0urcVvr-1Gl6",
        "colab_type": "code",
        "outputId": "88ffbb3c-4b5e-48b4-85c5-6c7652ef31c0",
        "colab": {
          "base_uri": "https://localhost:8080/",
          "height": 427
        }
      },
      "source": [
        "# Visualize training stats\n",
        "import seaborn as sns\n",
        "import matplotlib.pyplot as plt\n",
        "% matplotlib inline\n",
        "\n",
        "sns.set(style='darkgrid')\n",
        "sns.set(font_scale=1.5)\n",
        "plt.rcParams[\"figure.figsize\"] = (12, 6)\n",
        "\n",
        "plt.plot(df_stats['Training Loss'], 'b-o', label=\"Training\")\n",
        "plt.plot(df_stats['Valid. Loss'], 'g-o', label=\"Validation\")\n",
        "\n",
        "plt.title(\"Training & Validation Loss\")\n",
        "plt.xlabel(\"Epoch\")\n",
        "plt.ylabel(\"Loss\")\n",
        "plt.legend()\n",
        "\n",
        "### TO_DO: change epoch number\n",
        "plt.xticks([i + 1 for i in range(epochs)])\n",
        "\n",
        "plt.show()"
      ],
      "execution_count": 0,
      "outputs": [
        {
          "output_type": "display_data",
          "data": {
            "image/png": "[encoded data removed]",
            "text/plain": [
              "<Figure size 864x432 with 1 Axes>"
            ]
          },
          "metadata": {
            "tags": []
          }
        }
      ]
    },
    {
      "cell_type": "markdown",
      "metadata": {
        "id": "zdKwFWsQsZ-5",
        "colab_type": "text"
      },
      "source": [
        "# Testing"
      ]
    },
    {
      "cell_type": "code",
      "metadata": {
        "id": "3hvIeuts3ysN",
        "colab_type": "code",
        "outputId": "bb50193e-7e08-4139-a7aa-f9c905313796",
        "colab": {
          "base_uri": "https://localhost:8080/",
          "height": 68
        }
      },
      "source": [
        "print('Predicting labels for {:,} test sentences...'.format(len(test_dl) * batch_size))\n",
        "\n",
        "model.eval()\n",
        "\n",
        "total_accuracy_test = 0\n",
        "\n",
        "for batch in test_dl:\n",
        "        \n",
        "    # unpack current batch's input and labels\n",
        "    cur_input_ids = batch[0].to(device)\n",
        "    cur_input_mask = batch[1].to(device)\n",
        "    cur_labels = batch[2].to(device)\n",
        "\n",
        "    # no need to calculate and trace gradient\n",
        "    with torch.no_grad():\n",
        "        loss, logits = model(cur_input_ids,\n",
        "                            token_type_ids=None,\n",
        "                            attention_mask=cur_input_mask,\n",
        "                            labels=cur_labels)\n",
        "                    \n",
        "    # no need to calculate prediction & labels in gpu\n",
        "    # good practice when involves with large-scale dataset\n",
        "    logits = logits.detach().cpu().numpy()\n",
        "    label_ids = cur_labels.to('cpu')\n",
        "        \n",
        "    # calculate this batch's accuracy & loss and accumulate with other \n",
        "    # batches' accuracies & loss\n",
        "    total_accuracy_test += get_accuracy_hamming_loss(logits, label_ids)\n",
        "        \n",
        "\n",
        "print('Testing Accuracy: {:.2f}'.format(total_accuracy_test/len(test_dl)))\n",
        "print('Testing Completed')\n"
      ],
      "execution_count": 0,
      "outputs": [
        {
          "output_type": "stream",
          "text": [
            "Predicting labels for 1,472 test sentences...\n",
            "Testing Accuracy: 0.87\n",
            "Testing Completed\n"
          ],
          "name": "stdout"
        }
      ]
    }
  ]
}