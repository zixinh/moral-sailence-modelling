{
 "cells": [
  {
   "cell_type": "code",
   "execution_count": 89,
   "metadata": {},
   "outputs": [],
   "source": [
    "import pandas as pd"
   ]
  },
  {
   "cell_type": "code",
   "execution_count": 90,
   "metadata": {},
   "outputs": [],
   "source": [
    "annotations_json = pd.read_json('./dataset/tweets_raw.json')"
   ]
  },
  {
   "cell_type": "code",
   "execution_count": 91,
   "metadata": {
    "scrolled": true
   },
   "outputs": [
    {
     "data": {
      "text/html": [
       "<div>\n",
       "<style scoped>\n",
       "    .dataframe tbody tr th:only-of-type {\n",
       "        vertical-align: middle;\n",
       "    }\n",
       "\n",
       "    .dataframe tbody tr th {\n",
       "        vertical-align: top;\n",
       "    }\n",
       "\n",
       "    .dataframe thead th {\n",
       "        text-align: right;\n",
       "    }\n",
       "</style>\n",
       "<table border=\"1\" class=\"dataframe\">\n",
       "  <thead>\n",
       "    <tr style=\"text-align: right;\">\n",
       "      <th></th>\n",
       "      <th>Corpus</th>\n",
       "      <th>Tweets</th>\n",
       "    </tr>\n",
       "  </thead>\n",
       "  <tbody>\n",
       "    <tr>\n",
       "      <td>0</td>\n",
       "      <td>ALM</td>\n",
       "      <td>[{'tweet_id': '521033092132503552', 'tweet_tex...</td>\n",
       "    </tr>\n",
       "    <tr>\n",
       "      <td>1</td>\n",
       "      <td>Baltimore</td>\n",
       "      <td>[{'tweet_id': '593899776564944897', 'tweet_tex...</td>\n",
       "    </tr>\n",
       "    <tr>\n",
       "      <td>2</td>\n",
       "      <td>BLM</td>\n",
       "      <td>[{'tweet_id': '734202176684298240', 'tweet_tex...</td>\n",
       "    </tr>\n",
       "    <tr>\n",
       "      <td>3</td>\n",
       "      <td>Davidson</td>\n",
       "      <td>[{'tweet_id': '5', 'annotations': [{'annotator...</td>\n",
       "    </tr>\n",
       "    <tr>\n",
       "      <td>4</td>\n",
       "      <td>Election</td>\n",
       "      <td>[{'tweet_id': '509464992404357120', 'tweet_tex...</td>\n",
       "    </tr>\n",
       "    <tr>\n",
       "      <td>5</td>\n",
       "      <td>MeToo</td>\n",
       "      <td>[{'tweet_id': '48430014437122048', 'tweet_text...</td>\n",
       "    </tr>\n",
       "    <tr>\n",
       "      <td>6</td>\n",
       "      <td>Sandy</td>\n",
       "      <td>[{'tweet_id': '258018822945120256', 'tweet_tex...</td>\n",
       "    </tr>\n",
       "  </tbody>\n",
       "</table>\n",
       "</div>"
      ],
      "text/plain": [
       "      Corpus                                             Tweets\n",
       "0        ALM  [{'tweet_id': '521033092132503552', 'tweet_tex...\n",
       "1  Baltimore  [{'tweet_id': '593899776564944897', 'tweet_tex...\n",
       "2        BLM  [{'tweet_id': '734202176684298240', 'tweet_tex...\n",
       "3   Davidson  [{'tweet_id': '5', 'annotations': [{'annotator...\n",
       "4   Election  [{'tweet_id': '509464992404357120', 'tweet_tex...\n",
       "5      MeToo  [{'tweet_id': '48430014437122048', 'tweet_text...\n",
       "6      Sandy  [{'tweet_id': '258018822945120256', 'tweet_tex..."
      ]
     },
     "execution_count": 91,
     "metadata": {},
     "output_type": "execute_result"
    }
   ],
   "source": [
    "annotations_json"
   ]
  },
  {
   "cell_type": "code",
   "execution_count": 92,
   "metadata": {
    "scrolled": true
   },
   "outputs": [
    {
     "data": {
      "text/plain": [
       "[{'tweet_id': '521033092132503552',\n",
       "  'tweet_text': 'no tweet text available',\n",
       "  'date': 'no date available',\n",
       "  'annotations': [{'annotator': 'annotator00', 'annotation': 'care'},\n",
       "   {'annotator': 'annotator01', 'annotation': 'care,purity'},\n",
       "   {'annotator': 'annotator02', 'annotation': 'care,purity'},\n",
       "   {'annotator': 'annotator03', 'annotation': 'care'}]},\n",
       " {'tweet_id': '537681598989475841',\n",
       "  'tweet_text': 'Wholeheartedly support these protests &amp; acts of civil disobedience &amp; will join when I can! #Ferguson #AllLivesMatter http://t.co/D8Phc8UakE',\n",
       "  'date': 'Wed Nov 26 18:57:37 +0000 2014',\n",
       "  'annotations': [{'annotator': 'annotator00', 'annotation': 'subversion'},\n",
       "   {'annotator': 'annotator01', 'annotation': 'subversion'},\n",
       "   {'annotator': 'annotator02', 'annotation': 'loyalty'},\n",
       "   {'annotator': 'annotator03', 'annotation': 'loyalty,subversion'}]},\n",
       " {'tweet_id': '624644420705648640',\n",
       "  'tweet_text': 'This Sandra Bland situation man no disrespect rest her soul , but people die everyday in a unjustified matter #AllLivesMatter',\n",
       "  'date': 'Fri Jul 24 18:16:49 +0000 2015',\n",
       "  'annotations': [{'annotator': 'annotator00', 'annotation': 'harm,cheating'},\n",
       "   {'annotator': 'annotator01', 'annotation': 'fairness'},\n",
       "   {'annotator': 'annotator02', 'annotation': 'cheating'},\n",
       "   {'annotator': 'annotator03', 'annotation': 'care,cheating'}]},\n",
       " {'tweet_id': '752979765984890884',\n",
       "  'tweet_text': 'Commitment to peace, healing and loving neighbors. Give us strength and patience. #PortlandPride #AllLivesMatter #Peace',\n",
       "  'date': 'Tue Jul 12 21:35:40 +0000 2016',\n",
       "  'annotations': [{'annotator': 'annotator00', 'annotation': 'care'},\n",
       "   {'annotator': 'annotator01', 'annotation': 'purity'},\n",
       "   {'annotator': 'annotator02', 'annotation': 'care,purity'},\n",
       "   {'annotator': 'annotator03', 'annotation': 'care'}]},\n",
       " {'tweet_id': '548029362348765185',\n",
       "  'tweet_text': 'Injustice for one is an injustice for all #AllLivesMatter  #AntonioMartin',\n",
       "  'date': 'Thu Dec 25 08:15:56 +0000 2014',\n",
       "  'annotations': [{'annotator': 'annotator00',\n",
       "    'annotation': 'fairness,cheating'},\n",
       "   {'annotator': 'annotator01', 'annotation': 'loyalty'},\n",
       "   {'annotator': 'annotator02', 'annotation': 'care,loyalty,purity'},\n",
       "   {'annotator': 'annotator03', 'annotation': 'cheating'}]}]"
      ]
     },
     "execution_count": 92,
     "metadata": {},
     "output_type": "execute_result"
    }
   ],
   "source": [
    "#Get rid off \"no tweet text available\"\n",
    "#DATA SET1: TWEET BY ANNOTATORS.\n",
    "\n",
    "# get tweets and annotations for each individual annotator\n",
    "\n",
    "\n",
    "sum = 0 \n",
    "\n",
    "annotators_tweets = {}\n",
    "total_tweet = 0\n",
    "v = []\n",
    "for corpus_i in range(len(annotations_json['Corpus'])):\n",
    "    valid = 0 \n",
    "    for tweet in annotations_json['Tweets'][corpus_i]:\n",
    "        total_tweet += 1\n",
    "        if 'tweet_text' in tweet:\n",
    "            sum += 1 \n",
    "            if tweet['tweet_text'] != 'no tweet text available':\n",
    "                valid += 1\n",
    "    v.append(valid)\n",
    "                \n",
    "print(\"total tweet:\",total_tweet,\"\\ntotal tweet text:\",sum,\"\\nvalid tweet text\",v)\n",
    "                "
   ]
  },
  {
   "cell_type": "code",
   "execution_count": 93,
   "metadata": {},
   "outputs": [],
   "source": [
    "# get tweets and annotations for each individual annotator\n",
    "annotators_tweets = {}\n",
    "\n",
    "for corpus_i in range(len(annotations_json['Corpus'])):\n",
    "    for tweet in annotations_json['Tweets'][corpus_i]:\n",
    "        for annotation in tweet['annotations']:\n",
    "            \n",
    "            # arrange data format of each tweet \n",
    "            new_tweet = {'tweet_id': tweet['tweet_id'], \n",
    "                        'annotations': annotation['annotation'], \n",
    "                        'corpus': annotations_json['Corpus'][corpus_i]\n",
    "                        }\n",
    "            \n",
    "            # make sure annotator exists in the dictionary\n",
    "            if annotation['annotator'] not in annotators_tweets:\n",
    "                annotators_tweets[annotation['annotator']] = []\n",
    "            \n",
    "            annotators_tweets[annotation['annotator']].append(new_tweet)"
   ]
  },
  {
   "cell_type": "code",
   "execution_count": 94,
   "metadata": {},
   "outputs": [
    {
     "data": {
      "text/plain": [
       "[{'tweet_id': '521033092132503552',\n",
       "  'annotations': 'care,purity',\n",
       "  'corpus': 'ALM'},\n",
       " {'tweet_id': '537681598989475841',\n",
       "  'annotations': 'subversion',\n",
       "  'corpus': 'ALM'},\n",
       " {'tweet_id': '624644420705648640',\n",
       "  'annotations': 'fairness',\n",
       "  'corpus': 'ALM'},\n",
       " {'tweet_id': '752979765984890884', 'annotations': 'purity', 'corpus': 'ALM'},\n",
       " {'tweet_id': '548029362348765185', 'annotations': 'loyalty', 'corpus': 'ALM'}]"
      ]
     },
     "execution_count": 94,
     "metadata": {},
     "output_type": "execute_result"
    }
   ],
   "source": [
    "# visualize annotator01's first 5 tweets with annotations\n",
    "annotators_tweets['annotator01'][:5]"
   ]
  },
  {
   "cell_type": "code",
   "execution_count": 77,
   "metadata": {},
   "outputs": [
    {
     "name": "stdout",
     "output_type": "stream",
     "text": [
      "0    [{'tweet_id': '521033092132503552', 'tweet_tex...\n",
      "1    [{'tweet_id': '593899776564944897', 'tweet_tex...\n",
      "2    [{'tweet_id': '734202176684298240', 'tweet_tex...\n",
      "3    [{'tweet_id': '5', 'annotations': [{'annotator...\n",
      "4    [{'tweet_id': '509464992404357120', 'tweet_tex...\n",
      "5    [{'tweet_id': '48430014437122048', 'tweet_text...\n",
      "6    [{'tweet_id': '258018822945120256', 'tweet_tex...\n",
      "Name: Tweets, dtype: object\n"
     ]
    }
   ],
   "source": [
    "#7 tweets topic\n",
    "\n",
    "print(annotations_json['Tweets'])"
   ]
  },
  {
   "cell_type": "code",
   "execution_count": 71,
   "metadata": {},
   "outputs": [
    {
     "name": "stdout",
     "output_type": "stream",
     "text": [
      "annotator00 , annotated amount: 10277\n",
      "annotator01 , annotated amount: 11787\n",
      "annotator02 , annotated amount: 19556\n",
      "annotator03 , annotated amount: 14968\n",
      "annotator17 , annotated amount: 3730\n",
      "annotator04 , annotated amount: 10482\n",
      "annotator12 , annotated amount: 1228\n",
      "annotator13 , annotated amount: 5420\n",
      "annotator14 , annotated amount: 5416\n",
      "annotator15 , annotated amount: 673\n",
      "annotator06 , annotated amount: 4089\n",
      "annotator05 , annotated amount: 4669\n",
      "annotator07 , annotated amount: 4738\n",
      "annotator08 , annotated amount: 4805\n",
      "annotator16 , annotated amount: 2499\n",
      "annotator18 , annotated amount: 2592\n",
      "annotator19 , annotated amount: 2478\n",
      "annotator20 , annotated amount: 2591\n",
      "annotator21 , annotated amount: 2162\n",
      "annotator22 , annotated amount: 560\n",
      "annotator10 , annotated amount: 4588\n",
      "annotator09 , annotated amount: 4591\n",
      "annotator11 , annotated amount: 4555\n"
     ]
    }
   ],
   "source": [
    "#23 annotators \n",
    "\n",
    "for annotator in annotators_tweets:\n",
    "    print(annotator, ', annotated amount:', len(annotators_tweets[annotator]))"
   ]
  },
  {
   "cell_type": "code",
   "execution_count": 95,
   "metadata": {},
   "outputs": [
    {
     "name": "stdout",
     "output_type": "stream",
     "text": [
      "annotator00 , annotated amount: 10277\n",
      "annotator01 , annotated amount: 11787\n",
      "annotator02 , annotated amount: 19556\n",
      "annotator03 , annotated amount: 14968\n",
      "annotator17 , annotated amount: 3730\n",
      "annotator04 , annotated amount: 10482\n",
      "annotator12 , annotated amount: 1228\n",
      "annotator13 , annotated amount: 5420\n",
      "annotator14 , annotated amount: 5416\n",
      "annotator15 , annotated amount: 673\n",
      "annotator06 , annotated amount: 4089\n",
      "annotator05 , annotated amount: 4669\n",
      "annotator07 , annotated amount: 4738\n",
      "annotator08 , annotated amount: 4805\n",
      "annotator16 , annotated amount: 2499\n",
      "annotator18 , annotated amount: 2592\n",
      "annotator19 , annotated amount: 2478\n",
      "annotator20 , annotated amount: 2591\n",
      "annotator21 , annotated amount: 2162\n",
      "annotator22 , annotated amount: 560\n",
      "annotator10 , annotated amount: 4588\n",
      "annotator09 , annotated amount: 4591\n",
      "annotator11 , annotated amount: 4555\n",
      "total tweet number: 34987\n"
     ]
    }
   ],
   "source": [
    "#Get rid off \"no tweet text available\"\n",
    "#DATA SET1: TWEET BY ANNOTATORS.\n",
    "\n",
    "# get tweets and annotations for each individual annotator\n",
    "annotators_tweets = {}\n",
    "total_tweet = 0\n",
    "for corpus_i in range(len(annotations_json['Corpus'])):\n",
    "    for tweet in annotations_json['Tweets'][corpus_i]:\n",
    "        total_tweet += 1\n",
    "        for annotation in tweet['annotations']:\n",
    "            \n",
    "            # arrange data format of each tweet \n",
    "            new_tweet = {'tweet_id': tweet['tweet_id'], \n",
    "                        'annotations': annotation['annotation'], \n",
    "                        'corpus': annotations_json['Corpus'][corpus_i]\n",
    "                        #'tweet': tweet['tweet_text']\n",
    "                        }\n",
    "            \n",
    "            # make sure annotator exists in the dictionary\n",
    "            if annotation['annotator'] not in annotators_tweets:\n",
    "                annotators_tweets[annotation['annotator']] = []\n",
    "            \n",
    "            annotators_tweets[annotation['annotator']].append(new_tweet)\n",
    "            \n",
    "#23 annotators \n",
    "\n",
    "for annotator in annotators_tweets:\n",
    "    print(annotator, ', annotated amount:', len(annotators_tweets[annotator]))\n",
    "    \n",
    "print(\"total tweet number:\", total_tweet)"
   ]
  },
  {
   "cell_type": "code",
   "execution_count": 86,
   "metadata": {},
   "outputs": [
    {
     "name": "stdout",
     "output_type": "stream",
     "text": [
      "7\n"
     ]
    }
   ],
   "source": [
    "print(len(annotations_json['Tweets']))"
   ]
  },
  {
   "cell_type": "code",
   "execution_count": 100,
   "metadata": {},
   "outputs": [
    {
     "name": "stdout",
     "output_type": "stream",
     "text": [
      "total tweet: 34987 \n",
      "total tweet text: 30114 \n",
      "valid tweet text [3243, 3942, 3960, 0, 4147, 0, 3673]\n"
     ]
    }
   ],
   "source": []
  },
  {
   "cell_type": "code",
   "execution_count": null,
   "metadata": {},
   "outputs": [],
   "source": []
  }
 ],
 "metadata": {
  "kernelspec": {
   "display_name": "Python 3",
   "language": "python",
   "name": "python3"
  },
  "language_info": {
   "codemirror_mode": {
    "name": "ipython",
    "version": 3
   },
   "file_extension": ".py",
   "mimetype": "text/x-python",
   "name": "python",
   "nbconvert_exporter": "python",
   "pygments_lexer": "ipython3",
   "version": "3.7.4"
  }
 },
 "nbformat": 4,
 "nbformat_minor": 2
}
