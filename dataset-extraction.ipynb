{
 "cells": [
  {
   "cell_type": "code",
   "execution_count": 1,
   "metadata": {},
   "outputs": [],
   "source": [
    "import pandas as pd"
   ]
  },
  {
   "cell_type": "code",
   "execution_count": 2,
   "metadata": {},
   "outputs": [],
   "source": [
    "annotations_json = pd.read_json('./dataset/MFTC_V4.json')"
   ]
  },
  {
   "cell_type": "code",
   "execution_count": 5,
   "metadata": {},
   "outputs": [
    {
     "data": {
      "text/html": [
       "<div>\n",
       "<style scoped>\n",
       "    .dataframe tbody tr th:only-of-type {\n",
       "        vertical-align: middle;\n",
       "    }\n",
       "\n",
       "    .dataframe tbody tr th {\n",
       "        vertical-align: top;\n",
       "    }\n",
       "\n",
       "    .dataframe thead th {\n",
       "        text-align: right;\n",
       "    }\n",
       "</style>\n",
       "<table border=\"1\" class=\"dataframe\">\n",
       "  <thead>\n",
       "    <tr style=\"text-align: right;\">\n",
       "      <th></th>\n",
       "      <th>Corpus</th>\n",
       "      <th>Tweets</th>\n",
       "    </tr>\n",
       "  </thead>\n",
       "  <tbody>\n",
       "    <tr>\n",
       "      <td>0</td>\n",
       "      <td>ALM</td>\n",
       "      <td>[{'tweet_id': '521033092132503552', 'annotatio...</td>\n",
       "    </tr>\n",
       "    <tr>\n",
       "      <td>1</td>\n",
       "      <td>Baltimore</td>\n",
       "      <td>[{'tweet_id': '593899776564944897', 'annotatio...</td>\n",
       "    </tr>\n",
       "    <tr>\n",
       "      <td>2</td>\n",
       "      <td>BLM</td>\n",
       "      <td>[{'tweet_id': '734202176684298240', 'annotatio...</td>\n",
       "    </tr>\n",
       "    <tr>\n",
       "      <td>3</td>\n",
       "      <td>Davidson</td>\n",
       "      <td>[{'tweet_id': '5', 'annotations': [{'annotator...</td>\n",
       "    </tr>\n",
       "    <tr>\n",
       "      <td>4</td>\n",
       "      <td>Election</td>\n",
       "      <td>[{'tweet_id': '509464992404357120', 'annotatio...</td>\n",
       "    </tr>\n",
       "    <tr>\n",
       "      <td>5</td>\n",
       "      <td>MeToo</td>\n",
       "      <td>[{'tweet_id': '48430014437122048', 'annotation...</td>\n",
       "    </tr>\n",
       "    <tr>\n",
       "      <td>6</td>\n",
       "      <td>Sandy</td>\n",
       "      <td>[{'tweet_id': '258018822945120256', 'annotatio...</td>\n",
       "    </tr>\n",
       "  </tbody>\n",
       "</table>\n",
       "</div>"
      ],
      "text/plain": [
       "      Corpus                                             Tweets\n",
       "0        ALM  [{'tweet_id': '521033092132503552', 'annotatio...\n",
       "1  Baltimore  [{'tweet_id': '593899776564944897', 'annotatio...\n",
       "2        BLM  [{'tweet_id': '734202176684298240', 'annotatio...\n",
       "3   Davidson  [{'tweet_id': '5', 'annotations': [{'annotator...\n",
       "4   Election  [{'tweet_id': '509464992404357120', 'annotatio...\n",
       "5      MeToo  [{'tweet_id': '48430014437122048', 'annotation...\n",
       "6      Sandy  [{'tweet_id': '258018822945120256', 'annotatio..."
      ]
     },
     "execution_count": 5,
     "metadata": {},
     "output_type": "execute_result"
    }
   ],
   "source": [
    "annotations_json"
   ]
  },
  {
   "cell_type": "code",
   "execution_count": 36,
   "metadata": {},
   "outputs": [
    {
     "data": {
      "text/plain": [
       "[{'tweet_id': '521033092132503552',\n",
       "  'annotations': [{'annotator': 'annotator00', 'annotation': 'care'},\n",
       "   {'annotator': 'annotator01', 'annotation': 'care,purity'},\n",
       "   {'annotator': 'annotator02', 'annotation': 'care,purity'},\n",
       "   {'annotator': 'annotator03', 'annotation': 'care'}]},\n",
       " {'tweet_id': '537681598989475841',\n",
       "  'annotations': [{'annotator': 'annotator00', 'annotation': 'subversion'},\n",
       "   {'annotator': 'annotator01', 'annotation': 'subversion'},\n",
       "   {'annotator': 'annotator02', 'annotation': 'loyalty'},\n",
       "   {'annotator': 'annotator03', 'annotation': 'loyalty,subversion'}]},\n",
       " {'tweet_id': '624644420705648640',\n",
       "  'annotations': [{'annotator': 'annotator00', 'annotation': 'harm,cheating'},\n",
       "   {'annotator': 'annotator01', 'annotation': 'fairness'},\n",
       "   {'annotator': 'annotator02', 'annotation': 'cheating'},\n",
       "   {'annotator': 'annotator03', 'annotation': 'care,cheating'}]},\n",
       " {'tweet_id': '752979765984890884',\n",
       "  'annotations': [{'annotator': 'annotator00', 'annotation': 'care'},\n",
       "   {'annotator': 'annotator01', 'annotation': 'purity'},\n",
       "   {'annotator': 'annotator02', 'annotation': 'care,purity'},\n",
       "   {'annotator': 'annotator03', 'annotation': 'care'}]},\n",
       " {'tweet_id': '548029362348765185',\n",
       "  'annotations': [{'annotator': 'annotator00',\n",
       "    'annotation': 'fairness,cheating'},\n",
       "   {'annotator': 'annotator01', 'annotation': 'loyalty'},\n",
       "   {'annotator': 'annotator02', 'annotation': 'care,loyalty,purity'},\n",
       "   {'annotator': 'annotator03', 'annotation': 'cheating'}]}]"
      ]
     },
     "execution_count": 36,
     "metadata": {},
     "output_type": "execute_result"
    }
   ],
   "source": [
    "# visualize corpus ALM with first 5 tweets\n",
    "annotations_json['Tweets'][0][:5]"
   ]
  },
  {
   "cell_type": "code",
   "execution_count": 29,
   "metadata": {},
   "outputs": [],
   "source": [
    "# get tweets and annotations for each individual annotator\n",
    "annotators_tweets = {}\n",
    "\n",
    "for corpus_i in range(len(annotations_json['Corpus'])):\n",
    "    for tweet in annotations_json['Tweets'][corpus_i]:\n",
    "        for annotation in tweet['annotations']:\n",
    "            \n",
    "            # arrange data format of each tweet \n",
    "            new_tweet = {'tweet_id': tweet['tweet_id'], \n",
    "                        'annotations': annotation['annotation'], \n",
    "                        'corpus': annotations_json['Corpus'][corpus_i]}\n",
    "            \n",
    "            # make sure annotator exists in the dictionary\n",
    "            if annotation['annotator'] not in annotators_tweets:\n",
    "                annotators_tweets[annotation['annotator']] = []\n",
    "            \n",
    "            annotators_tweets[annotation['annotator']].append(new_tweet)"
   ]
  },
  {
   "cell_type": "code",
   "execution_count": 33,
   "metadata": {},
   "outputs": [
    {
     "data": {
      "text/plain": [
       "[{'tweet_id': '521033092132503552',\n",
       "  'annotations': 'care,purity',\n",
       "  'corpus': 'ALM'},\n",
       " {'tweet_id': '537681598989475841',\n",
       "  'annotations': 'subversion',\n",
       "  'corpus': 'ALM'},\n",
       " {'tweet_id': '624644420705648640',\n",
       "  'annotations': 'fairness',\n",
       "  'corpus': 'ALM'},\n",
       " {'tweet_id': '752979765984890884', 'annotations': 'purity', 'corpus': 'ALM'},\n",
       " {'tweet_id': '548029362348765185', 'annotations': 'loyalty', 'corpus': 'ALM'}]"
      ]
     },
     "execution_count": 33,
     "metadata": {},
     "output_type": "execute_result"
    }
   ],
   "source": [
    "# visualize annotator01's first 5 tweets with annotations\n",
    "annotators_tweets['annotator01'][:5]"
   ]
  },
  {
   "cell_type": "code",
   "execution_count": 34,
   "metadata": {},
   "outputs": [
    {
     "name": "stdout",
     "output_type": "stream",
     "text": [
      "annotator00 , annotated amount: 10277\n",
      "annotator01 , annotated amount: 11787\n",
      "annotator02 , annotated amount: 19556\n",
      "annotator03 , annotated amount: 14968\n",
      "annotator17 , annotated amount: 3730\n",
      "annotator04 , annotated amount: 10482\n",
      "annotator12 , annotated amount: 1228\n",
      "annotator13 , annotated amount: 5420\n",
      "annotator14 , annotated amount: 5416\n",
      "annotator15 , annotated amount: 673\n",
      "annotator06 , annotated amount: 4089\n",
      "annotator05 , annotated amount: 4669\n",
      "annotator07 , annotated amount: 4738\n",
      "annotator08 , annotated amount: 4805\n",
      "annotator16 , annotated amount: 2499\n",
      "annotator18 , annotated amount: 2592\n",
      "annotator19 , annotated amount: 2478\n",
      "annotator20 , annotated amount: 2591\n",
      "annotator21 , annotated amount: 2162\n",
      "annotator22 , annotated amount: 560\n",
      "annotator10 , annotated amount: 4588\n",
      "annotator09 , annotated amount: 4591\n",
      "annotator11 , annotated amount: 4555\n"
     ]
    }
   ],
   "source": [
    "for annotator in annotators_tweets:\n",
    "    print(annotator, ', annotated amount:', len(annotators_tweets[annotator]))"
   ]
  },
  {
   "cell_type": "code",
   "execution_count": null,
   "metadata": {},
   "outputs": [],
   "source": []
  }
 ],
 "metadata": {
  "kernelspec": {
   "display_name": "Python 3",
   "language": "python",
   "name": "python3"
  },
  "language_info": {
   "codemirror_mode": {
    "name": "ipython",
    "version": 3
   },
   "file_extension": ".py",
   "mimetype": "text/x-python",
   "name": "python",
   "nbconvert_exporter": "python",
   "pygments_lexer": "ipython3",
   "version": "3.7.4"
  }
 },
 "nbformat": 4,
 "nbformat_minor": 2
}
