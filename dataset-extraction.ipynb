{
 "cells": [
  {
   "cell_type": "code",
   "execution_count": 101,
   "metadata": {},
   "outputs": [],
   "source": [
    "import pandas as pd"
   ]
  },
  {
   "cell_type": "code",
   "execution_count": 102,
   "metadata": {},
   "outputs": [],
   "source": [
    "annotations_json = pd.read_json('./dataset/tweets_raw.json')"
   ]
  },
  {
   "cell_type": "code",
   "execution_count": 103,
   "metadata": {
    "scrolled": true
   },
   "outputs": [
    {
     "data": {
      "text/html": [
       "<div>\n",
       "<style scoped>\n",
       "    .dataframe tbody tr th:only-of-type {\n",
       "        vertical-align: middle;\n",
       "    }\n",
       "\n",
       "    .dataframe tbody tr th {\n",
       "        vertical-align: top;\n",
       "    }\n",
       "\n",
       "    .dataframe thead th {\n",
       "        text-align: right;\n",
       "    }\n",
       "</style>\n",
       "<table border=\"1\" class=\"dataframe\">\n",
       "  <thead>\n",
       "    <tr style=\"text-align: right;\">\n",
       "      <th></th>\n",
       "      <th>Corpus</th>\n",
       "      <th>Tweets</th>\n",
       "    </tr>\n",
       "  </thead>\n",
       "  <tbody>\n",
       "    <tr>\n",
       "      <td>0</td>\n",
       "      <td>ALM</td>\n",
       "      <td>[{'tweet_id': '521033092132503552', 'tweet_tex...</td>\n",
       "    </tr>\n",
       "    <tr>\n",
       "      <td>1</td>\n",
       "      <td>Baltimore</td>\n",
       "      <td>[{'tweet_id': '593899776564944897', 'tweet_tex...</td>\n",
       "    </tr>\n",
       "    <tr>\n",
       "      <td>2</td>\n",
       "      <td>BLM</td>\n",
       "      <td>[{'tweet_id': '734202176684298240', 'tweet_tex...</td>\n",
       "    </tr>\n",
       "    <tr>\n",
       "      <td>3</td>\n",
       "      <td>Davidson</td>\n",
       "      <td>[{'tweet_id': '5', 'annotations': [{'annotator...</td>\n",
       "    </tr>\n",
       "    <tr>\n",
       "      <td>4</td>\n",
       "      <td>Election</td>\n",
       "      <td>[{'tweet_id': '509464992404357120', 'tweet_tex...</td>\n",
       "    </tr>\n",
       "    <tr>\n",
       "      <td>5</td>\n",
       "      <td>MeToo</td>\n",
       "      <td>[{'tweet_id': '48430014437122048', 'tweet_text...</td>\n",
       "    </tr>\n",
       "    <tr>\n",
       "      <td>6</td>\n",
       "      <td>Sandy</td>\n",
       "      <td>[{'tweet_id': '258018822945120256', 'tweet_tex...</td>\n",
       "    </tr>\n",
       "  </tbody>\n",
       "</table>\n",
       "</div>"
      ],
      "text/plain": [
       "      Corpus                                             Tweets\n",
       "0        ALM  [{'tweet_id': '521033092132503552', 'tweet_tex...\n",
       "1  Baltimore  [{'tweet_id': '593899776564944897', 'tweet_tex...\n",
       "2        BLM  [{'tweet_id': '734202176684298240', 'tweet_tex...\n",
       "3   Davidson  [{'tweet_id': '5', 'annotations': [{'annotator...\n",
       "4   Election  [{'tweet_id': '509464992404357120', 'tweet_tex...\n",
       "5      MeToo  [{'tweet_id': '48430014437122048', 'tweet_text...\n",
       "6      Sandy  [{'tweet_id': '258018822945120256', 'tweet_tex..."
      ]
     },
     "execution_count": 103,
     "metadata": {},
     "output_type": "execute_result"
    }
   ],
   "source": [
    "annotations_json"
   ]
  },
  {
   "cell_type": "code",
   "execution_count": 104,
   "metadata": {
    "scrolled": true
   },
   "outputs": [
    {
     "name": "stdout",
     "output_type": "stream",
     "text": [
      "total tweet: 34987 \n",
      "total tweet text: 30114 \n",
      "valid tweet text [3243, 3942, 3960, 0, 4147, 0, 3673]\n"
     ]
    }
   ],
   "source": [
    "#Validity Checker\n",
    "\n",
    "sum = 0 \n",
    "total_tweet = 0\n",
    "v = []\n",
    "\n",
    "for corpus_i in range(len(annotations_json['Corpus'])):\n",
    "    valid = 0 \n",
    "    for tweet in annotations_json['Tweets'][corpus_i]:\n",
    "        total_tweet += 1\n",
    "        if 'tweet_text' in tweet:\n",
    "            sum += 1 \n",
    "            if tweet['tweet_text'] != 'no tweet text available':\n",
    "                valid += 1\n",
    "    v.append(valid)\n",
    "                \n",
    "print(\"total tweet:\",total_tweet,\"\\ntotal tweet text:\",sum,\"\\nvalid tweet text\",v)\n",
    "                "
   ]
  },
  {
   "cell_type": "code",
   "execution_count": 127,
   "metadata": {},
   "outputs": [],
   "source": [
    "# get tweets and annotations for each individual annotator\n",
    "\n",
    "annotators_tweets = {}\n",
    "\n",
    "for corpus_i in range(len(annotations_json['Corpus'])):\n",
    "    for tweet in annotations_json['Tweets'][corpus_i]:\n",
    "        for annotation in tweet['annotations']:\n",
    "            \n",
    "            # make sure annotator exists in the dictionary\n",
    "            if annotation['annotator'] not in annotators_tweets:\n",
    "                annotators_tweets[annotation['annotator']] = []\n",
    "                \n",
    "            if 'tweet_text' in tweet:\n",
    "                if tweet['tweet_text'] != 'no tweet text available':\n",
    "                    # arrange data format of each tweet \n",
    "                    new_tweet = {'tweet_id': tweet['tweet_id'], \n",
    "                                'annotations': annotation['annotation'], \n",
    "                                'corpus': annotations_json['Corpus'][corpus_i],\n",
    "                                 'tweet': tweet['tweet_text']\n",
    "                                }\n",
    "                    annotators_tweets[annotation['annotator']].append(new_tweet)"
   ]
  },
  {
   "cell_type": "code",
   "execution_count": 128,
   "metadata": {},
   "outputs": [
    {
     "data": {
      "text/plain": [
       "[{'tweet_id': '590951312944168960',\n",
       "  'annotations': 'betrayal',\n",
       "  'corpus': 'Baltimore',\n",
       "  'tweet': \"RT @Big6domino: @BarackObama keep saying we should have a conversation about #Racism. He won't pick the phone up though. #FreddieGray #Walt…\"},\n",
       " {'tweet_id': '591691887330861057',\n",
       "  'annotations': 'non-moral',\n",
       "  'corpus': 'Baltimore',\n",
       "  'tweet': 'Coming up at 4 p.m.: Baltimore Police will deliver an update on the #FreddieGray investigation. Listen live on WBAL: http://t.co/V5aw5ilisM'},\n",
       " {'tweet_id': '589661589189492736',\n",
       "  'annotations': 'non-moral',\n",
       "  'corpus': 'Baltimore',\n",
       "  'tweet': 'RT @NYCOptOut: Some NYC schools w/ high opt-out rates are told to investigate teachers to see if they are encouraging refusals!!! What abou…'},\n",
       " {'tweet_id': '589878851653672961',\n",
       "  'annotations': 'loyalty,subversion,betrayal',\n",
       "  'corpus': 'Baltimore',\n",
       "  'tweet': 'RT @deray: Someone used their cell phone to record the police grabbing #FreddieGray. The video made the police respond. Film the police.'},\n",
       " {'tweet_id': '590443843310342144',\n",
       "  'annotations': 'loyalty',\n",
       "  'corpus': 'Baltimore',\n",
       "  'tweet': 'RT @surnell: #YogainEP Proud as an Indian &amp; as disciple: Gurudev @SriSri addressing European Parliament Live from 7:30 PM IST http://t.co/X…'}]"
      ]
     },
     "execution_count": 128,
     "metadata": {},
     "output_type": "execute_result"
    }
   ],
   "source": [
    "# visualize annotator01's first 5 tweets with annotations\n",
    "annotators_tweets['annotator15'][:5]"
   ]
  },
  {
   "cell_type": "code",
   "execution_count": 129,
   "metadata": {},
   "outputs": [
    {
     "name": "stdout",
     "output_type": "stream",
     "text": [
      "0    [{'tweet_id': '521033092132503552', 'tweet_tex...\n",
      "1    [{'tweet_id': '593899776564944897', 'tweet_tex...\n",
      "2    [{'tweet_id': '734202176684298240', 'tweet_tex...\n",
      "3    [{'tweet_id': '5', 'annotations': [{'annotator...\n",
      "4    [{'tweet_id': '509464992404357120', 'tweet_tex...\n",
      "5    [{'tweet_id': '48430014437122048', 'tweet_text...\n",
      "6    [{'tweet_id': '258018822945120256', 'tweet_tex...\n",
      "Name: Tweets, dtype: object\n"
     ]
    }
   ],
   "source": [
    "#7 tweets topic\n",
    "\n",
    "print(annotations_json['Tweets'])"
   ]
  },
  {
   "cell_type": "code",
   "execution_count": 130,
   "metadata": {},
   "outputs": [
    {
     "name": "stdout",
     "output_type": "stream",
     "text": [
      "annotator00 , annotated amount: 7853\n",
      "annotator01 , annotated amount: 7221\n",
      "annotator02 , annotated amount: 14478\n",
      "annotator03 , annotated amount: 11293\n",
      "annotator17 , annotated amount: 626\n",
      "annotator04 , annotated amount: 7993\n",
      "annotator12 , annotated amount: 914\n",
      "annotator13 , annotated amount: 3823\n",
      "annotator14 , annotated amount: 3830\n",
      "annotator15 , annotated amount: 503\n",
      "annotator06 , annotated amount: 0\n",
      "annotator05 , annotated amount: 0\n",
      "annotator07 , annotated amount: 0\n",
      "annotator08 , annotated amount: 0\n",
      "annotator16 , annotated amount: 0\n",
      "annotator18 , annotated amount: 0\n",
      "annotator19 , annotated amount: 0\n",
      "annotator20 , annotated amount: 0\n",
      "annotator21 , annotated amount: 0\n",
      "annotator22 , annotated amount: 0\n",
      "annotator10 , annotated amount: 3670\n",
      "annotator09 , annotated amount: 3673\n",
      "annotator11 , annotated amount: 3639\n"
     ]
    }
   ],
   "source": [
    "#23 annotators \n",
    "\n",
    "for annotator in annotators_tweets:\n",
    "    print(annotator, ', annotated amount:', len(annotators_tweets[annotator]))"
   ]
  },
  {
   "cell_type": "code",
   "execution_count": null,
   "metadata": {},
   "outputs": [],
   "source": []
  }
 ],
 "metadata": {
  "kernelspec": {
   "display_name": "Python 3",
   "language": "python",
   "name": "python3"
  },
  "language_info": {
   "codemirror_mode": {
    "name": "ipython",
    "version": 3
   },
   "file_extension": ".py",
   "mimetype": "text/x-python",
   "name": "python",
   "nbconvert_exporter": "python",
   "pygments_lexer": "ipython3",
   "version": "3.7.4"
  }
 },
 "nbformat": 4,
 "nbformat_minor": 2
}
