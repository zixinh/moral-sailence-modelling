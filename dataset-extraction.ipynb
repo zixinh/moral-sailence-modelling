{
 "cells": [
  {
   "cell_type": "code",
   "execution_count": 101,
   "metadata": {},
   "outputs": [],
   "source": [
    "import pandas as pd"
   ]
  },
  {
   "cell_type": "code",
   "execution_count": 102,
   "metadata": {},
   "outputs": [],
   "source": [
    "annotations_json = pd.read_json('./dataset/tweets_raw.json')"
   ]
  },
  {
   "cell_type": "code",
   "execution_count": 103,
   "metadata": {
    "scrolled": true
   },
   "outputs": [
    {
     "data": {
      "text/html": [
       "<div>\n",
       "<style scoped>\n",
       "    .dataframe tbody tr th:only-of-type {\n",
       "        vertical-align: middle;\n",
       "    }\n",
       "\n",
       "    .dataframe tbody tr th {\n",
       "        vertical-align: top;\n",
       "    }\n",
       "\n",
       "    .dataframe thead th {\n",
       "        text-align: right;\n",
       "    }\n",
       "</style>\n",
       "<table border=\"1\" class=\"dataframe\">\n",
       "  <thead>\n",
       "    <tr style=\"text-align: right;\">\n",
       "      <th></th>\n",
       "      <th>Corpus</th>\n",
       "      <th>Tweets</th>\n",
       "    </tr>\n",
       "  </thead>\n",
       "  <tbody>\n",
       "    <tr>\n",
       "      <td>0</td>\n",
       "      <td>ALM</td>\n",
       "      <td>[{'tweet_id': '521033092132503552', 'tweet_tex...</td>\n",
       "    </tr>\n",
       "    <tr>\n",
       "      <td>1</td>\n",
       "      <td>Baltimore</td>\n",
       "      <td>[{'tweet_id': '593899776564944897', 'tweet_tex...</td>\n",
       "    </tr>\n",
       "    <tr>\n",
       "      <td>2</td>\n",
       "      <td>BLM</td>\n",
       "      <td>[{'tweet_id': '734202176684298240', 'tweet_tex...</td>\n",
       "    </tr>\n",
       "    <tr>\n",
       "      <td>3</td>\n",
       "      <td>Davidson</td>\n",
       "      <td>[{'tweet_id': '5', 'annotations': [{'annotator...</td>\n",
       "    </tr>\n",
       "    <tr>\n",
       "      <td>4</td>\n",
       "      <td>Election</td>\n",
       "      <td>[{'tweet_id': '509464992404357120', 'tweet_tex...</td>\n",
       "    </tr>\n",
       "    <tr>\n",
       "      <td>5</td>\n",
       "      <td>MeToo</td>\n",
       "      <td>[{'tweet_id': '48430014437122048', 'tweet_text...</td>\n",
       "    </tr>\n",
       "    <tr>\n",
       "      <td>6</td>\n",
       "      <td>Sandy</td>\n",
       "      <td>[{'tweet_id': '258018822945120256', 'tweet_tex...</td>\n",
       "    </tr>\n",
       "  </tbody>\n",
       "</table>\n",
       "</div>"
      ],
      "text/plain": [
       "      Corpus                                             Tweets\n",
       "0        ALM  [{'tweet_id': '521033092132503552', 'tweet_tex...\n",
       "1  Baltimore  [{'tweet_id': '593899776564944897', 'tweet_tex...\n",
       "2        BLM  [{'tweet_id': '734202176684298240', 'tweet_tex...\n",
       "3   Davidson  [{'tweet_id': '5', 'annotations': [{'annotator...\n",
       "4   Election  [{'tweet_id': '509464992404357120', 'tweet_tex...\n",
       "5      MeToo  [{'tweet_id': '48430014437122048', 'tweet_text...\n",
       "6      Sandy  [{'tweet_id': '258018822945120256', 'tweet_tex..."
      ]
     },
     "execution_count": 103,
     "metadata": {},
     "output_type": "execute_result"
    }
   ],
   "source": [
    "annotations_json"
   ]
  },
  {
   "cell_type": "code",
   "execution_count": 184,
   "metadata": {
    "scrolled": true
   },
   "outputs": [
    {
     "name": "stdout",
     "output_type": "stream",
     "text": [
      "total tweet: 34987 \n",
      "total tweet text: 30114 \n",
      "valid tweet text [3243, 3942, 3960, 0, 4147, 0, 3673]\n",
      "{'care': 10635, 'purity': 4479, 'subversion': 10322, 'loyalty': 10204, 'harm': 16178, 'cheating': 14716, 'fairness': 10540, 'non-moral': 54876, 'betrayal': 7530, 'authority': 9067, 'degradation': 7639, 'nh': 0, 'nm': 108}\n"
     ]
    }
   ],
   "source": [
    "#Validity Checker\n",
    "\n",
    "sum = 0 \n",
    "total_tweet = 0\n",
    "v = []\n",
    "moral_category = {}\n",
    "\n",
    "for corpus_i in range(len(annotations_json['Corpus'])):\n",
    "    valid = 0 \n",
    "    for tweet in annotations_json['Tweets'][corpus_i]:\n",
    "        total_tweet += 1\n",
    "        if 'tweet_text' in tweet:\n",
    "            sum += 1 \n",
    "            if tweet['tweet_text'] != 'no tweet text available':\n",
    "                valid += 1\n",
    "        for annotation in tweet['annotations']:\n",
    "            annotations = annotation['annotation'].split(',')\n",
    "            for i in annotations:\n",
    "                if i not in moral_category:\n",
    "                    moral_category[i] = 0\n",
    "                else:\n",
    "                    moral_category[i] += 1\n",
    "    v.append(valid)\n",
    "                \n",
    "print(\"total tweet:\",total_tweet,\"\\ntotal tweet text:\",sum,\"\\nvalid tweet text\",v)\n",
    "                \n",
    "print(annotation_list)\n",
    "\n",
    "#Setting up global variable\n",
    "moral_OHL = {}\n",
    "moral_OHL['care'] = 0\n",
    "moral_OHL['purity'] = 1\n",
    "moral_OHL['subversion'] = 2 \n",
    "moral_OHL['loyalty'] = 3 \n",
    "moral_OHL['harm'] = 4\n",
    "moral_OHL['cheating'] = 5 \n",
    "moral_OHL['fairness'] = 6 \n",
    "moral_OHL['non-moral'] = 7 \n",
    "moral_OHL['betrayal'] = 8 \n",
    "moral_OHL['authority'] = 9 \n",
    "moral_OHL['degradation'] =10"
   ]
  },
  {
   "cell_type": "code",
   "execution_count": 189,
   "metadata": {},
   "outputs": [],
   "source": [
    "# get tweets and annotations for each individual annotator\n",
    "import re\n",
    "\n",
    "annotators_tweets = {}\n",
    "\n",
    "for corpus_i in range(len(annotations_json['Corpus'])):\n",
    "    for tweet in annotations_json['Tweets'][corpus_i]:\n",
    "        for annotation in tweet['annotations']:\n",
    "            \n",
    "            # make sure annotator exists in the dictionary\n",
    "            if annotation['annotator'] not in annotators_tweets:\n",
    "                annotators_tweets[annotation['annotator']] = []\n",
    "                \n",
    "            if 'tweet_text' in tweet:\n",
    "                if tweet['tweet_text'] != 'no tweet text available':\n",
    "                    \n",
    "                    #Getting rid off links.\n",
    "                    text = re.sub(r'http\\S+', '', tweet['tweet_text'])\n",
    "                    \n",
    "                    #Getting rid off @\n",
    "                    text = re.sub(r'@\\S+', '', text)\n",
    "            \n",
    "                    #Setting up onehot for annotations. \n",
    "                    annotations = annotation['annotation'].split(',')\n",
    "                    \n",
    "                    moral_labels = [0 for i in range(11)]\n",
    "                    \n",
    "                    for i in annotations:\n",
    "                        if i in moral_OHL:\n",
    "                            moral_labels[moral_OHL[i]] = 1\n",
    "            \n",
    "                    # arrange data format of each tweet \n",
    "                    new_tweet = { 'tweet': text,\n",
    "                                 'moral labels': moral_labels,\n",
    "                                 'corpus': annotations_json['Corpus'][corpus_i],\n",
    "                                'tweet_id': tweet['tweet_id'],\n",
    "                                'annotations': annotations, \n",
    "                                }\n",
    "                    annotators_tweets[annotation['annotator']].append(new_tweet)"
   ]
  },
  {
   "cell_type": "code",
   "execution_count": 191,
   "metadata": {},
   "outputs": [
    {
     "data": {
      "text/plain": [
       "[{'tweet': 'Wholeheartedly support these protests &amp; acts of civil disobedience &amp; will join when I can! #Ferguson #AllLivesMatter ',\n",
       "  'moral labels': [0, 0, 0, 1, 0, 0, 0, 0, 0, 0, 0],\n",
       "  'corpus': 'ALM',\n",
       "  'tweet_id': '537681598989475841',\n",
       "  'annotations': ['loyalty']},\n",
       " {'tweet': 'This Sandra Bland situation man no disrespect rest her soul , but people die everyday in a unjustified matter #AllLivesMatter',\n",
       "  'moral labels': [0, 0, 0, 0, 0, 1, 0, 0, 0, 0, 0],\n",
       "  'corpus': 'ALM',\n",
       "  'tweet_id': '624644420705648640',\n",
       "  'annotations': ['cheating']},\n",
       " {'tweet': 'Commitment to peace, healing and loving neighbors. Give us strength and patience. #PortlandPride #AllLivesMatter #Peace',\n",
       "  'moral labels': [1, 1, 0, 0, 0, 0, 0, 0, 0, 0, 0],\n",
       "  'corpus': 'ALM',\n",
       "  'tweet_id': '752979765984890884',\n",
       "  'annotations': ['care', 'purity']},\n",
       " {'tweet': 'Injustice for one is an injustice for all #AllLivesMatter  #AntonioMartin',\n",
       "  'moral labels': [1, 1, 0, 1, 0, 0, 0, 0, 0, 0, 0],\n",
       "  'corpus': 'ALM',\n",
       "  'tweet_id': '548029362348765185',\n",
       "  'annotations': ['care', 'loyalty', 'purity']},\n",
       " {'tweet': 'This is what compassion looks like! #vegan #AllLivesMatter ',\n",
       "  'moral labels': [1, 1, 0, 0, 0, 0, 0, 0, 0, 0, 0],\n",
       "  'corpus': 'ALM',\n",
       "  'tweet_id': '753261224737898497',\n",
       "  'annotations': ['care', 'purity']},\n",
       " {'tweet': 'Liberty and Justice for all? How about opportunity for all. #blacklivesmatter #alllivesmatter',\n",
       "  'moral labels': [1, 1, 0, 0, 0, 0, 0, 0, 0, 0, 0],\n",
       "  'corpus': 'ALM',\n",
       "  'tweet_id': '636902749657919489',\n",
       "  'annotations': ['care', 'purity']},\n",
       " {'tweet': 'Took a long time, no? Doctors Strive to Do Less Harm by Inattentive Care, via  #alllivesmatter #hope ',\n",
       "  'moral labels': [0, 0, 0, 0, 0, 0, 0, 1, 0, 0, 0],\n",
       "  'corpus': 'ALM',\n",
       "  'tweet_id': '568112472542064640',\n",
       "  'annotations': ['non-moral']},\n",
       " {'tweet': 'Yes RT  ppl who change #BlackLivesMatter to #AllLivesMatter run thru a cancer fundraiser goin\"THERE ARE OTHER DISEASES TOO\"',\n",
       "  'moral labels': [0, 0, 0, 0, 0, 1, 0, 0, 0, 0, 0],\n",
       "  'corpus': 'ALM',\n",
       "  'tweet_id': '540400187458351105',\n",
       "  'annotations': ['cheating']},\n",
       " {'tweet': '\\n\\n#AllLivesMatter ... Give a RANDOM ACT OF KINDNESS TODAY!!!',\n",
       "  'moral labels': [1, 1, 0, 0, 0, 0, 0, 0, 0, 0, 0],\n",
       "  'corpus': 'ALM',\n",
       "  'tweet_id': '751417943427149824',\n",
       "  'annotations': ['care', 'purity']},\n",
       " {'tweet': '#AllLivesMatter but racists behind #BlackLivesMatter prefer criminals over innocent   #Ferguson',\n",
       "  'moral labels': [0, 0, 0, 0, 0, 1, 0, 0, 1, 0, 0],\n",
       "  'corpus': 'ALM',\n",
       "  'tweet_id': '546194676441546752',\n",
       "  'annotations': ['cheating', 'betrayal']}]"
      ]
     },
     "execution_count": 191,
     "metadata": {},
     "output_type": "execute_result"
    }
   ],
   "source": [
    "# visualize annotator01's first 5 tweets with annotations\n",
    "annotators_tweets['annotator02'][:10]"
   ]
  },
  {
   "cell_type": "code",
   "execution_count": 129,
   "metadata": {},
   "outputs": [
    {
     "name": "stdout",
     "output_type": "stream",
     "text": [
      "0    [{'tweet_id': '521033092132503552', 'tweet_tex...\n",
      "1    [{'tweet_id': '593899776564944897', 'tweet_tex...\n",
      "2    [{'tweet_id': '734202176684298240', 'tweet_tex...\n",
      "3    [{'tweet_id': '5', 'annotations': [{'annotator...\n",
      "4    [{'tweet_id': '509464992404357120', 'tweet_tex...\n",
      "5    [{'tweet_id': '48430014437122048', 'tweet_text...\n",
      "6    [{'tweet_id': '258018822945120256', 'tweet_tex...\n",
      "Name: Tweets, dtype: object\n"
     ]
    }
   ],
   "source": [
    "#7 tweets topic\n",
    "\n",
    "print(annotations_json['Tweets'])"
   ]
  },
  {
   "cell_type": "code",
   "execution_count": 130,
   "metadata": {},
   "outputs": [
    {
     "name": "stdout",
     "output_type": "stream",
     "text": [
      "annotator00 , annotated amount: 7853\n",
      "annotator01 , annotated amount: 7221\n",
      "annotator02 , annotated amount: 14478\n",
      "annotator03 , annotated amount: 11293\n",
      "annotator17 , annotated amount: 626\n",
      "annotator04 , annotated amount: 7993\n",
      "annotator12 , annotated amount: 914\n",
      "annotator13 , annotated amount: 3823\n",
      "annotator14 , annotated amount: 3830\n",
      "annotator15 , annotated amount: 503\n",
      "annotator06 , annotated amount: 0\n",
      "annotator05 , annotated amount: 0\n",
      "annotator07 , annotated amount: 0\n",
      "annotator08 , annotated amount: 0\n",
      "annotator16 , annotated amount: 0\n",
      "annotator18 , annotated amount: 0\n",
      "annotator19 , annotated amount: 0\n",
      "annotator20 , annotated amount: 0\n",
      "annotator21 , annotated amount: 0\n",
      "annotator22 , annotated amount: 0\n",
      "annotator10 , annotated amount: 3670\n",
      "annotator09 , annotated amount: 3673\n",
      "annotator11 , annotated amount: 3639\n"
     ]
    }
   ],
   "source": [
    "#23 annotators \n",
    "\n",
    "for annotator in annotators_tweets:\n",
    "    print(annotator, ', annotated amount:', len(annotators_tweets[annotator]))"
   ]
  },
  {
   "cell_type": "code",
   "execution_count": 162,
   "metadata": {},
   "outputs": [],
   "source": [
    "st = 'Took a long time, no? Doctors Strive to Do Less Harm by Inattentive Care, via @nytimes #alllivesmatter #hope http://t.co/iRqahTSZYK'\n",
    "\n",
    "g = st.strip()"
   ]
  },
  {
   "cell_type": "code",
   "execution_count": 163,
   "metadata": {},
   "outputs": [
    {
     "data": {
      "text/plain": [
       "'Took a long time, no? Doctors Strive to Do Less Harm by Inattentive Care, via @nytimes #alllivesmatter #hope http://t.co/iRqahTSZYK'"
      ]
     },
     "execution_count": 163,
     "metadata": {},
     "output_type": "execute_result"
    }
   ],
   "source": [
    "g"
   ]
  },
  {
   "cell_type": "code",
   "execution_count": 164,
   "metadata": {},
   "outputs": [],
   "source": []
  },
  {
   "cell_type": "code",
   "execution_count": 165,
   "metadata": {},
   "outputs": [
    {
     "data": {
      "text/plain": [
       "'Took a long time, no? Doctors Strive to Do Less Harm by Inattentive Care, via  #alllivesmatter #hope '"
      ]
     },
     "execution_count": 165,
     "metadata": {},
     "output_type": "execute_result"
    }
   ],
   "source": [
    "g\n"
   ]
  },
  {
   "cell_type": "code",
   "execution_count": 174,
   "metadata": {},
   "outputs": [
    {
     "data": {
      "text/plain": [
       "['harm', 'fairness']"
      ]
     },
     "execution_count": 174,
     "metadata": {},
     "output_type": "execute_result"
    }
   ],
   "source": [
    "s = 'harm,fairness'\n",
    "s = s.split(',')\n",
    "s"
   ]
  },
  {
   "cell_type": "code",
   "execution_count": 182,
   "metadata": {},
   "outputs": [],
   "source": [
    "a = [0 for i in range(11)]"
   ]
  },
  {
   "cell_type": "code",
   "execution_count": 183,
   "metadata": {},
   "outputs": [
    {
     "data": {
      "text/plain": [
       "[0, 0, 0, 0, 0, 0, 0, 0, 0, 0]"
      ]
     },
     "execution_count": 183,
     "metadata": {},
     "output_type": "execute_result"
    }
   ],
   "source": [
    "a"
   ]
  },
  {
   "cell_type": "code",
   "execution_count": null,
   "metadata": {},
   "outputs": [],
   "source": []
  }
 ],
 "metadata": {
  "kernelspec": {
   "display_name": "Python 3",
   "language": "python",
   "name": "python3"
  },
  "language_info": {
   "codemirror_mode": {
    "name": "ipython",
    "version": 3
   },
   "file_extension": ".py",
   "mimetype": "text/x-python",
   "name": "python",
   "nbconvert_exporter": "python",
   "pygments_lexer": "ipython3",
   "version": "3.7.4"
  }
 },
 "nbformat": 4,
 "nbformat_minor": 2
}
